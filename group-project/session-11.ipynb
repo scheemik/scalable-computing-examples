{
 "cells": [
  {
   "attachments": {},
   "cell_type": "markdown",
   "metadata": {},
   "source": [
    "# Session 15: Visualization"
   ]
  },
  {
   "cell_type": "code",
   "execution_count": 11,
   "metadata": {},
   "outputs": [],
   "source": [
    "import parsl\n",
    "from parsl import python_app\n",
    "from parsl.config import Config\n",
    "from parsl.executors import HighThroughputExecutor\n",
    "from parsl.providers import LocalProvider\n",
    "\n",
    "from ipyleaflet import Map, LocalTileLayer, WMSLayer, projections\n",
    "\n",
    "from grouputils import initialize_rasterizer"
   ]
  },
  {
   "attachments": {},
   "cell_type": "markdown",
   "metadata": {},
   "source": [
    "Interactive plotting is an excellent tool to facilitate data exploration. A very popular tool for creating Interactive maps is [Leaflet](https://leafletjs.com/). Leaflet is a JavaScript library for mapping, which has wrappers in numerous languages including python (`ipyleaflet`).\n",
    "\n",
    "In the previous two sessions, we created tiles at the maximum zoom level (z = 13). If you wanted to display all of this data on an interactive map, like a Leaflet map, it would be extremely slow to load because there is so much of it, and it's at such a high resolution. To show this data in a performant way on a map, we need to create _lower_ resolution tiles (\"downsampling\"), and they need to be in a web-accessible format (most browsers can't render GeoTIFF files, so PNG is better.) - [Here is a good explanation](https://www.maptiler.com/google-maps-coordinates-tile-bounds-projection/)\n",
    "\n",
    "Today, we will create web tiles as PNG images of those tiles at all zoom levels, from 1 to 13. This way, when we are zoomed _out_ in the interactive map, the _lower_ resolution zoom level 1 is loaded. Higher resolution levels load only when you zoom _in_, and the extent you are trying to view is smaller, so fewer tiles load. This scaling of resolution by zoom level is what allows us to interact with the data in a performant way.\n",
    "\n",
    "First, we'll set up the rasterizer as before."
   ]
  },
  {
   "cell_type": "code",
   "execution_count": 12,
   "metadata": {},
   "outputs": [],
   "source": [
    "iwp_rasterizer = initialize_rasterizer(\"/home/shares/example-pdg-data\")"
   ]
  },
  {
   "attachments": {},
   "cell_type": "markdown",
   "metadata": {},
   "source": [
    "Here are the methods that we will use from the RasterTiler:\n",
    "\n",
    "1. `parent_geotiffs_from_children`, which takes as an argument the set of tiles (GeoTIFFs) that we produced yesterday, and produces parent tiles at the next zoom level.\n",
    "\n",
    "2. `webtiles_from_geotiffs` takes the set of GeoTIFFs produced by `parent_geotiffs_from_children` and creates PNG web tiles from them.\n",
    "    - Note: PNG stands for \"Portable Network Graphic\", which is a type of raster image file!\n",
    "\n",
    "Like the last session, we will run this code in batches."
   ]
  },
  {
   "cell_type": "code",
   "execution_count": 13,
   "metadata": {},
   "outputs": [],
   "source": [
    "# We'll also use the make_batch function to create batches of\n",
    "# GeoTIFF files to process.\n",
    "def make_batch(items, batch_size):\n",
    "    return [items[i:i + batch_size] for i in range(0, len(items), batch_size)]"
   ]
  },
  {
   "attachments": {},
   "cell_type": "markdown",
   "metadata": {},
   "source": [
    "## Creating parent tiles\n",
    "\n",
    "To create lower resolution GeoTIFF files, we can combine high resolution GeoTIFFs then resample them so that we still have 256x256 pixel data. We will start with zoom level 12, and run the `parent_geotiffs_from_children` method on each zoom level to generate the parent zoom level. Then we run it on the parent level to generate the grandparent level...and so on."
   ]
  },
  {
   "cell_type": "code",
   "execution_count": 14,
   "metadata": {},
   "outputs": [
    {
     "name": "stdout",
     "output_type": "stream",
     "text": [
      "Parent Zs: [12, 11, 10, 9, 8, 7, 6, 5, 4, 3, 2, 1]\n"
     ]
    }
   ],
   "source": [
    "# Get each z-level of GeoTIFFs we need to create:\n",
    "parent_zs = list(range(12, 0, -1))\n",
    "print(f'Parent Zs: {parent_zs}')"
   ]
  },
  {
   "attachments": {},
   "cell_type": "markdown",
   "metadata": {},
   "source": [
    "Here is an example for how we can run this, without `parsl`, for just 1 z-level."
   ]
  },
  {
   "cell_type": "code",
   "execution_count": 15,
   "metadata": {},
   "outputs": [],
   "source": [
    "parent_z = 12\n",
    "batch_size = 50\n",
    "\n",
    "# get a list of child paths from the parent zoom level\n",
    "all_child_paths = iwp_rasterizer.tiles.get_filenames_from_dir('geotiff', z = parent_z + 1) # z-level 13\n",
    "\n",
    "# Make a list of all the parent tiles that will be created from the z+1 child\n",
    "# tiles\n",
    "all_parent_tiles = set()\n",
    "for child_path in all_child_paths:\n",
    "    parent_tile = iwp_rasterizer.tiles.get_parent_tile(child_path)\n",
    "    all_parent_tiles.add(parent_tile)\n",
    "\n",
    "all_parent_tiles = list(all_parent_tiles)\n",
    "\n",
    "# Break all parent tiles at level z into batches\n",
    "parent_tile_batches = make_batch(all_parent_tiles, batch_size)\n",
    "\n",
    "# write the geotiff files for z-level 12\n",
    "for parent_tile_batch in parent_tile_batches:\n",
    "    # crate rasters for z-level 12 from aggregated z-level 13 rasters\n",
    "    iwp_rasterizer.parent_geotiffs_from_children(parent_tile_batch, recursive = False)\n"
   ]
  },
  {
   "attachments": {},
   "cell_type": "markdown",
   "metadata": {},
   "source": [
    "Check out the z-levels within the `geotiff` directory. There is now a z-level 12 that is populated with files.\n",
    "\n",
    "Now that we know how to do this for one zoom level...\n",
    "\n",
    "- How would you write this out for all of the levels?\n",
    "- In what part of the code would you want to insert a `@python_app` decorator to parallelize the process?\n",
    "- What dependencies exist for this parallel process to run correctly?\n",
    "\n",
    "Write a parsl app to parallelize generating the parent tiles."
   ]
  },
  {
   "cell_type": "code",
   "execution_count": 16,
   "metadata": {},
   "outputs": [],
   "source": [
    "# Generate parsl app for creating parent geotiffs from children\n",
    "\n",
    "@python_app\n",
    "def downsample_parent_tile_batch(parent_tile_batch, iwp_rasterizer):\n",
    "    # crate rasters for z-level z from aggregated z-level z+1 rasters\n",
    "    iwp_rasterizer.parent_geotiffs_from_children(parent_tile_batch, recursive = False)\n",
    "    return parent_tile_batch\n",
    "\n",
    "def downsample(parent_z, iwp_rasterizer, batch_size = 10):\n",
    "    print(f'Downsampling to parent z-level {parent_z}')\n",
    "    # get a list of child paths from the parent zoom level\n",
    "    all_child_paths = iwp_rasterizer.tiles.get_filenames_from_dir('geotiff', z = parent_z + 1) # z-level z+1\n",
    "\n",
    "    # Make a list of all the parent tiles that will be created from the z+1 child\n",
    "    # tiles\n",
    "    all_parent_tiles = set()\n",
    "    for child_path in all_child_paths:\n",
    "        parent_tile = iwp_rasterizer.tiles.get_parent_tile(child_path)\n",
    "        all_parent_tiles.add(parent_tile)\n",
    "\n",
    "    all_parent_tiles = list(all_parent_tiles)\n",
    "\n",
    "    # Break all parent tiles at level z into batches\n",
    "    parent_tile_batches = make_batch(all_parent_tiles, batch_size)\n",
    "\n",
    "    futures = []\n",
    "    for batch in parent_tile_batches:\n",
    "        # create rasters for z-level z from aggregated z-level z+1 rasters\n",
    "        future = downsample_parent_tile_batch(batch, iwp_rasterizer)\n",
    "        futures.append(future)\n",
    "        print(f'Assembled future for: {batch_size}')\n",
    "    \n",
    "    for future in futures:\n",
    "        downsampled_batch = future.result()\n",
    "        print(f'Downsampled parent tile batch: {downsampled_batch}')"
   ]
  },
  {
   "cell_type": "markdown",
   "metadata": {},
   "source": [
    "Next, set up your executor as we did yesterday."
   ]
  },
  {
   "cell_type": "code",
   "execution_count": 17,
   "metadata": {},
   "outputs": [
    {
     "data": {
      "text/plain": [
       "<parsl.dataflow.dflow.DataFlowKernel at 0x7f7c12fb7130>"
      ]
     },
     "execution_count": 17,
     "metadata": {},
     "output_type": "execute_result"
    }
   ],
   "source": [
    "# Set up executor\n",
    "activate_env = 'workon scomp'\n",
    "htex_local = Config(\n",
    "    executors = [\n",
    "        HighThroughputExecutor(\n",
    "            max_workers_per_node = 11, # Caps the number of workers launched per node\n",
    "            provider = LocalProvider(\n",
    "                worker_init = activate_env,\n",
    "                max_blocks = 1\n",
    "            )\n",
    "        )\n",
    "    ],\n",
    ")\n",
    "parsl.clear()\n",
    "parsl.load(htex_local)"
   ]
  },
  {
   "attachments": {},
   "cell_type": "markdown",
   "metadata": {},
   "source": [
    "Then generate parent tiles at all zoom levels."
   ]
  },
  {
   "cell_type": "code",
   "execution_count": 18,
   "metadata": {},
   "outputs": [
    {
     "name": "stdout",
     "output_type": "stream",
     "text": [
      "Downsampling to parent z-level 12\n",
      "Assembled future for: 10\n",
      "Assembled future for: 10\n",
      "Assembled future for: 10\n",
      "Assembled future for: 10\n",
      "Assembled future for: 10\n",
      "Assembled future for: 10\n",
      "Assembled future for: 10\n",
      "Assembled future for: 10\n",
      "Assembled future for: 10\n",
      "Assembled future for: 10\n",
      "Assembled future for: 10\n",
      "Assembled future for: 10\n",
      "Assembled future for: 10\n",
      "Assembled future for: 10\n",
      "Assembled future for: 10\n",
      "Downsampled parent tile batch: [Tile(x=456, y=539, z=12), Tile(x=459, y=536, z=12), Tile(x=450, y=533, z=12), Tile(x=459, y=540, z=12), Tile(x=446, y=538, z=12), Tile(x=458, y=529, z=12), Tile(x=462, y=533, z=12), Tile(x=459, y=538, z=12), Tile(x=449, y=538, z=12), Tile(x=453, y=530, z=12)]\n",
      "Downsampled parent tile batch: [Tile(x=448, y=540, z=12), Tile(x=448, y=529, z=12), Tile(x=463, y=532, z=12), Tile(x=457, y=536, z=12), Tile(x=458, y=531, z=12), Tile(x=462, y=539, z=12), Tile(x=456, y=529, z=12), Tile(x=448, y=533, z=12), Tile(x=460, y=534, z=12), Tile(x=447, y=539, z=12)]\n",
      "Downsampled parent tile batch: [Tile(x=447, y=528, z=12), Tile(x=451, y=529, z=12), Tile(x=461, y=533, z=12), Tile(x=456, y=531, z=12), Tile(x=455, y=537, z=12), Tile(x=446, y=532, z=12), Tile(x=450, y=536, z=12), Tile(x=464, y=533, z=12), Tile(x=453, y=531, z=12), Tile(x=451, y=531, z=12)]\n",
      "Downsampled parent tile batch: [Tile(x=459, y=532, z=12), Tile(x=461, y=541, z=12), Tile(x=460, y=540, z=12), Tile(x=454, y=531, z=12), Tile(x=451, y=535, z=12), Tile(x=455, y=539, z=12), Tile(x=450, y=538, z=12), Tile(x=449, y=534, z=12), Tile(x=452, y=531, z=12), Tile(x=461, y=540, z=12)]\n",
      "Downsampled parent tile batch: [Tile(x=449, y=540, z=12), Tile(x=463, y=541, z=12), Tile(x=456, y=536, z=12), Tile(x=458, y=540, z=12), Tile(x=460, y=541, z=12), Tile(x=460, y=530, z=12), Tile(x=452, y=533, z=12), Tile(x=461, y=542, z=12), Tile(x=455, y=529, z=12), Tile(x=451, y=536, z=12)]\n",
      "Downsampled parent tile batch: [Tile(x=455, y=533, z=12), Tile(x=449, y=537, z=12), Tile(x=460, y=532, z=12), Tile(x=446, y=539, z=12), Tile(x=450, y=532, z=12), Tile(x=447, y=537, z=12), Tile(x=446, y=528, z=12), Tile(x=455, y=531, z=12), Tile(x=456, y=540, z=12), Tile(x=458, y=541, z=12)]\n",
      "Downsampled parent tile batch: [Tile(x=455, y=535, z=12), Tile(x=448, y=530, z=12), Tile(x=458, y=530, z=12), Tile(x=446, y=530, z=12), Tile(x=450, y=534, z=12), Tile(x=446, y=541, z=12), Tile(x=453, y=529, z=12), Tile(x=459, y=541, z=12), Tile(x=459, y=530, z=12), Tile(x=449, y=530, z=12)]\n",
      "Downsampled parent tile batch: [Tile(x=454, y=529, z=12), Tile(x=448, y=532, z=12), Tile(x=454, y=533, z=12), Tile(x=461, y=532, z=12), Tile(x=465, y=533, z=12), Tile(x=449, y=532, z=12), Tile(x=463, y=533, z=12), Tile(x=453, y=533, z=12), Tile(x=462, y=542, z=12), Tile(x=457, y=541, z=12)]\n",
      "Downsampled parent tile batch: [Tile(x=457, y=530, z=12), Tile(x=458, y=536, z=12), Tile(x=462, y=540, z=12), Tile(x=452, y=529, z=12), Tile(x=447, y=531, z=12), Tile(x=451, y=532, z=12), Tile(x=455, y=536, z=12), Tile(x=446, y=531, z=12), Tile(x=456, y=534, z=12), Tile(x=447, y=529, z=12)]\n",
      "Downsampled parent tile batch: [Tile(x=455, y=540, z=12), Tile(x=449, y=533, z=12), Tile(x=448, y=538, z=12), Tile(x=460, y=539, z=12), Tile(x=450, y=539, z=12), Tile(x=447, y=533, z=12), Tile(x=451, y=534, z=12), Tile(x=464, y=534, z=12), Tile(x=458, y=537, z=12), Tile(x=446, y=537, z=12)]\n",
      "Downsampled parent tile batch: [Tile(x=450, y=530, z=12), Tile(x=462, y=532, z=12), Tile(x=455, y=541, z=12), Tile(x=457, y=531, z=12), Tile(x=448, y=539, z=12), Tile(x=461, y=539, z=12), Tile(x=459, y=539, z=12), Tile(x=452, y=534, z=12), Tile(x=449, y=539, z=12), Tile(x=463, y=540, z=12)]\n",
      "Downsampled parent tile batch: [Tile(x=460, y=533, z=12), Tile(x=447, y=538, z=12), Tile(x=460, y=531, z=12), Tile(x=446, y=540, z=12), Tile(x=450, y=531, z=12), Tile(x=456, y=541, z=12), Tile(x=456, y=530, z=12), Tile(x=457, y=539, z=12), Tile(x=450, y=535, z=12), Tile(x=447, y=540, z=12)]\n",
      "Downsampled parent tile batch: [Tile(x=451, y=530, z=12), Tile(x=455, y=534, z=12), Tile(x=446, y=529, z=12), Tile(x=454, y=530, z=12), Tile(x=459, y=529, z=12), Tile(x=449, y=529, z=12), Tile(x=453, y=532, z=12), Tile(x=450, y=537, z=12), Tile(x=448, y=531, z=12), Tile(x=459, y=533, z=12)]\n",
      "Downsampled parent tile batch: [Tile(x=463, y=534, z=12), Tile(x=464, y=532, z=12), Tile(x=459, y=531, z=12), Tile(x=449, y=531, z=12), Tile(x=453, y=534, z=12), Tile(x=462, y=541, z=12), Tile(x=452, y=530, z=12), Tile(x=457, y=529, z=12), Tile(x=454, y=534, z=12), Tile(x=457, y=540, z=12)]\n",
      "Downsampled parent tile batch: [Tile(x=448, y=537, z=12), Tile(x=447, y=530, z=12), Tile(x=458, y=539, z=12), Tile(x=452, y=532, z=12), Tile(x=456, y=533, z=12), Tile(x=460, y=538, z=12), Tile(x=447, y=532, z=12), Tile(x=451, y=533, z=12), Tile(x=455, y=530, z=12), Tile(x=450, y=529, z=12)]\n",
      "Downsampling to parent z-level 11\n",
      "Assembled future for: 10\n",
      "Assembled future for: 10\n",
      "Assembled future for: 10\n",
      "Assembled future for: 10\n",
      "Assembled future for: 10\n",
      "Assembled future for: 10\n",
      "Downsampled parent tile batch: [Tile(x=232, y=267, z=11), Tile(x=230, y=269, z=11), Tile(x=223, y=264, z=11), Tile(x=226, y=267, z=11), Tile(x=230, y=271, z=11), Tile(x=227, y=266, z=11), Tile(x=231, y=267, z=11), Tile(x=229, y=265, z=11), Tile(x=227, y=268, z=11), Tile(x=228, y=265, z=11)]\n",
      "Downsampled parent tile batch: [Tile(x=231, y=269, z=11), Tile(x=224, y=264, z=11), Tile(x=226, y=265, z=11), Tile(x=228, y=267, z=11), Tile(x=231, y=271, z=11), Tile(x=228, y=269, z=11), Tile(x=223, y=266, z=11), Tile(x=223, y=268, z=11), Tile(x=227, y=270, z=11), Tile(x=229, y=269, z=11)]\n",
      "Downsampled parent tile batch: [Tile(x=224, y=266, z=11), Tile(x=230, y=266, z=11), Tile(x=224, y=268, z=11), Tile(x=225, y=265, z=11), Tile(x=225, y=267, z=11), Tile(x=223, y=270, z=11), Tile(x=231, y=266, z=11), Tile(x=225, y=269, z=11), Tile(x=232, y=266, z=11), Tile(x=226, y=264, z=11)]\n",
      "Downsampled parent tile batch: [Tile(x=226, y=266, z=11), Tile(x=224, y=270, z=11), Tile(x=230, y=270, z=11), Tile(x=227, y=265, z=11), Tile(x=229, y=264, z=11), Tile(x=227, y=267, z=11), Tile(x=227, y=269, z=11), Tile(x=228, y=266, z=11), Tile(x=231, y=270, z=11), Tile(x=228, y=264, z=11)]\n",
      "Downsampled parent tile batch: [Tile(x=224, y=267, z=11), Tile(x=224, y=265, z=11), Tile(x=230, y=265, z=11), Tile(x=223, y=265, z=11), Tile(x=225, y=264, z=11), Tile(x=229, y=266, z=11), Tile(x=223, y=269, z=11), Tile(x=229, y=268, z=11), Tile(x=230, y=267, z=11), Tile(x=228, y=270, z=11)]\n",
      "Downsampled parent tile batch: [Tile(x=228, y=268, z=11), Tile(x=227, y=264, z=11), Tile(x=224, y=269, z=11), Tile(x=225, y=266, z=11), Tile(x=225, y=268, z=11), Tile(x=229, y=270, z=11)]\n",
      "Downsampling to parent z-level 10\n",
      "Assembled future for: 10\n",
      "Assembled future for: 10\n",
      "Assembled future for: 10\n",
      "Downsampled parent tile batch: [Tile(x=111, y=133, z=10), Tile(x=111, y=135, z=10), Tile(x=112, y=132, z=10), Tile(x=113, y=132, z=10), Tile(x=114, y=132, z=10), Tile(x=112, y=134, z=10), Tile(x=115, y=132, z=10), Tile(x=115, y=134, z=10), Tile(x=113, y=134, z=10), Tile(x=114, y=134, z=10)]\n",
      "Downsampled parent tile batch: [Tile(x=116, y=133, z=10), Tile(x=111, y=132, z=10), Tile(x=111, y=134, z=10), Tile(x=112, y=133, z=10), Tile(x=113, y=135, z=10), Tile(x=113, y=133, z=10), Tile(x=112, y=135, z=10), Tile(x=114, y=135, z=10), Tile(x=115, y=133, z=10), Tile(x=115, y=135, z=10)]\n",
      "Downsampled parent tile batch: [Tile(x=114, y=133, z=10)]\n",
      "Downsampling to parent z-level 9\n",
      "Assembled future for: 10\n",
      "Downsampled parent tile batch: [Tile(x=55, y=67, z=9), Tile(x=57, y=67, z=9), Tile(x=56, y=67, z=9), Tile(x=57, y=66, z=9), Tile(x=55, y=66, z=9), Tile(x=58, y=66, z=9), Tile(x=56, y=66, z=9)]\n",
      "Downsampling to parent z-level 8\n",
      "Assembled future for: 10\n",
      "Downsampled parent tile batch: [Tile(x=29, y=33, z=8), Tile(x=28, y=33, z=8), Tile(x=27, y=33, z=8)]\n",
      "Downsampling to parent z-level 7\n",
      "Assembled future for: 10\n",
      "Downsampled parent tile batch: [Tile(x=14, y=16, z=7), Tile(x=13, y=16, z=7)]\n",
      "Downsampling to parent z-level 6\n",
      "Assembled future for: 10\n",
      "Downsampled parent tile batch: [Tile(x=7, y=8, z=6), Tile(x=6, y=8, z=6)]\n",
      "Downsampling to parent z-level 5\n",
      "Assembled future for: 10\n",
      "Downsampled parent tile batch: [Tile(x=3, y=4, z=5)]\n",
      "Downsampling to parent z-level 4\n",
      "Assembled future for: 10\n",
      "Downsampled parent tile batch: [Tile(x=1, y=2, z=4)]\n",
      "Downsampling to parent z-level 3\n",
      "Assembled future for: 10\n",
      "Downsampled parent tile batch: [Tile(x=0, y=1, z=3)]\n",
      "Downsampling to parent z-level 2\n",
      "Assembled future for: 10\n",
      "Downsampled parent tile batch: [Tile(x=0, y=0, z=2)]\n",
      "Downsampling to parent z-level 1\n",
      "Assembled future for: 10\n",
      "Downsampled parent tile batch: [Tile(x=0, y=0, z=1)]\n"
     ]
    }
   ],
   "source": [
    "# generate parent tiles at all zoom levels using the parsl app\n",
    "for parent_z in parent_zs:\n",
    "    downsample(parent_z, iwp_rasterizer, batch_size = 10)"
   ]
  },
  {
   "attachments": {},
   "cell_type": "markdown",
   "metadata": {},
   "source": [
    "Great! Now all zoom levels have been created and populated with `.tif` files in the `geotiff` directory."
   ]
  },
  {
   "attachments": {},
   "cell_type": "markdown",
   "metadata": {},
   "source": [
    "# Make web tiles\n",
    "\n",
    "In the last step to create the web tiles for the map, we will use the `webtiles_from_geotiffs` method on all of the GeoTIFFs we just created. First, we need to update our `iwp_rasterizer` config object using the `update_ranges` method, which will add the new zoom ranges we just created to the config information."
   ]
  },
  {
   "cell_type": "code",
   "execution_count": 19,
   "metadata": {},
   "outputs": [],
   "source": [
    "iwp_rasterizer.update_ranges()"
   ]
  },
  {
   "attachments": {},
   "cell_type": "markdown",
   "metadata": {},
   "source": [
    "Now we can get a list of files to create webtiles from, and run the `webtile_from_geotiff` (not plural) function on just one geotiff file."
   ]
  },
  {
   "cell_type": "code",
   "execution_count": 20,
   "metadata": {},
   "outputs": [
    {
     "data": {
      "text/plain": [
       "Tile(x=909, y=1059, z=13)"
      ]
     },
     "execution_count": 20,
     "metadata": {},
     "output_type": "execute_result"
    }
   ],
   "source": [
    "geotiff_paths = iwp_rasterizer.tiles.get_filenames_from_dir('geotiff')\n",
    "iwp_rasterizer.webtile_from_geotiff(geotiff_paths[0])"
   ]
  },
  {
   "attachments": {},
   "cell_type": "markdown",
   "metadata": {},
   "source": [
    "Notice that there is a new directory called web_tiles, which contains 2 PNG image of the 1 GeoTIFF file input. Each PNG image represents a statistic calculated for that GeoTIFF: number of ice wedge polygons per pixel, and proportion of each pixel that is covered by ice wedge polygons.\n",
    "\n",
    "Saving the rasters as PNG's is a form of \"lossless\" compression. This means that data is not actually lost when we convert it, and it can be reconstructed. An example of \"lossy\" compression would be saving the data as JPEG's."
   ]
  },
  {
   "attachments": {},
   "cell_type": "markdown",
   "metadata": {},
   "source": [
    "Like we've done before, create a `parsl` app to create the web tiles in parallel. For `webtiles_from_geotiffs` (plural), set `update_ranges = False` because already did that above."
   ]
  },
  {
   "cell_type": "code",
   "execution_count": 21,
   "metadata": {},
   "outputs": [],
   "source": [
    "# create parsl app\n",
    "\n",
    "@python_app\n",
    "def create_webtiles(geotiff_batch, iwp_rasterizer):\n",
    "    iwp_rasterizer.webtiles_from_geotiffs(geotiff_batch, update_ranges = False)\n",
    "    return geotiff_batch"
   ]
  },
  {
   "cell_type": "code",
   "execution_count": 22,
   "metadata": {},
   "outputs": [
    {
     "name": "stdout",
     "output_type": "stream",
     "text": [
      "Assembled future for ['geotiff/WGS1984Quad/13/909/1059.tif', 'geotiff/WGS1984Quad/13/909/1060.tif', 'geotiff/WGS1984Quad/13/909/1061.tif', 'geotiff/WGS1984Quad/13/909/1068.tif', 'geotiff/WGS1984Quad/13/909/1069.tif', 'geotiff/WGS1984Quad/13/909/1067.tif', 'geotiff/WGS1984Quad/13/909/1062.tif', 'geotiff/WGS1984Quad/13/909/1063.tif', 'geotiff/WGS1984Quad/13/910/1079.tif', 'geotiff/WGS1984Quad/13/910/1080.tif', 'geotiff/WGS1984Quad/13/910/1081.tif', 'geotiff/WGS1984Quad/13/910/1061.tif', 'geotiff/WGS1984Quad/13/910/1082.tif', 'geotiff/WGS1984Quad/13/910/1062.tif', 'geotiff/WGS1984Quad/13/910/1083.tif', 'geotiff/WGS1984Quad/13/910/1067.tif', 'geotiff/WGS1984Quad/13/910/1063.tif', 'geotiff/WGS1984Quad/13/910/1068.tif', 'geotiff/WGS1984Quad/13/910/1069.tif', 'geotiff/WGS1984Quad/13/910/1070.tif', 'geotiff/WGS1984Quad/13/910/1071.tif', 'geotiff/WGS1984Quad/13/910/1072.tif', 'geotiff/WGS1984Quad/13/910/1073.tif', 'geotiff/WGS1984Quad/13/910/1074.tif', 'geotiff/WGS1984Quad/13/910/1059.tif', 'geotiff/WGS1984Quad/13/910/1060.tif', 'geotiff/WGS1984Quad/13/911/1067.tif', 'geotiff/WGS1984Quad/13/911/1059.tif', 'geotiff/WGS1984Quad/13/911/1082.tif', 'geotiff/WGS1984Quad/13/911/1083.tif', 'geotiff/WGS1984Quad/13/911/1063.tif', 'geotiff/WGS1984Quad/13/911/1068.tif', 'geotiff/WGS1984Quad/13/911/1069.tif', 'geotiff/WGS1984Quad/13/911/1060.tif', 'geotiff/WGS1984Quad/13/911/1070.tif', 'geotiff/WGS1984Quad/13/911/1072.tif', 'geotiff/WGS1984Quad/13/911/1073.tif', 'geotiff/WGS1984Quad/13/911/1061.tif', 'geotiff/WGS1984Quad/13/911/1074.tif', 'geotiff/WGS1984Quad/13/911/1079.tif', 'geotiff/WGS1984Quad/13/911/1080.tif', 'geotiff/WGS1984Quad/13/911/1081.tif', 'geotiff/WGS1984Quad/13/911/1062.tif', 'geotiff/WGS1984Quad/13/912/1080.tif', 'geotiff/WGS1984Quad/13/912/1081.tif', 'geotiff/WGS1984Quad/13/912/1082.tif', 'geotiff/WGS1984Quad/13/912/1083.tif', 'geotiff/WGS1984Quad/13/912/1059.tif', 'geotiff/WGS1984Quad/13/912/1060.tif', 'geotiff/WGS1984Quad/13/912/1062.tif', 'geotiff/WGS1984Quad/13/912/1061.tif', 'geotiff/WGS1984Quad/13/912/1063.tif', 'geotiff/WGS1984Quad/13/912/1067.tif', 'geotiff/WGS1984Quad/13/912/1068.tif', 'geotiff/WGS1984Quad/13/912/1069.tif', 'geotiff/WGS1984Quad/13/912/1073.tif', 'geotiff/WGS1984Quad/13/912/1079.tif', 'geotiff/WGS1984Quad/13/897/1060.tif', 'geotiff/WGS1984Quad/13/897/1061.tif', 'geotiff/WGS1984Quad/13/897/1065.tif', 'geotiff/WGS1984Quad/13/897/1067.tif', 'geotiff/WGS1984Quad/13/897/1074.tif', 'geotiff/WGS1984Quad/13/897/1062.tif', 'geotiff/WGS1984Quad/13/897/1066.tif', 'geotiff/WGS1984Quad/13/897/1075.tif', 'geotiff/WGS1984Quad/13/897/1076.tif', 'geotiff/WGS1984Quad/13/897/1063.tif', 'geotiff/WGS1984Quad/13/897/1077.tif', 'geotiff/WGS1984Quad/13/897/1078.tif', 'geotiff/WGS1984Quad/13/897/1079.tif', 'geotiff/WGS1984Quad/13/897/1080.tif', 'geotiff/WGS1984Quad/13/897/1064.tif', 'geotiff/WGS1984Quad/13/897/1059.tif', 'geotiff/WGS1984Quad/13/898/1076.tif', 'geotiff/WGS1984Quad/13/898/1077.tif', 'geotiff/WGS1984Quad/13/898/1078.tif', 'geotiff/WGS1984Quad/13/898/1079.tif', 'geotiff/WGS1984Quad/13/898/1080.tif', 'geotiff/WGS1984Quad/13/898/1059.tif', 'geotiff/WGS1984Quad/13/898/1060.tif', 'geotiff/WGS1984Quad/13/898/1065.tif', 'geotiff/WGS1984Quad/13/898/1061.tif', 'geotiff/WGS1984Quad/13/898/1062.tif', 'geotiff/WGS1984Quad/13/898/1066.tif', 'geotiff/WGS1984Quad/13/898/1067.tif', 'geotiff/WGS1984Quad/13/898/1063.tif', 'geotiff/WGS1984Quad/13/898/1064.tif', 'geotiff/WGS1984Quad/13/898/1074.tif', 'geotiff/WGS1984Quad/13/898/1075.tif', 'geotiff/WGS1984Quad/13/899/1078.tif', 'geotiff/WGS1984Quad/13/899/1079.tif', 'geotiff/WGS1984Quad/13/899/1080.tif', 'geotiff/WGS1984Quad/13/899/1066.tif', 'geotiff/WGS1984Quad/13/899/1059.tif', 'geotiff/WGS1984Quad/13/899/1060.tif', 'geotiff/WGS1984Quad/13/899/1067.tif', 'geotiff/WGS1984Quad/13/899/1061.tif', 'geotiff/WGS1984Quad/13/899/1068.tif', 'geotiff/WGS1984Quad/13/899/1063.tif', 'geotiff/WGS1984Quad/13/899/1064.tif', 'geotiff/WGS1984Quad/13/899/1065.tif', 'geotiff/WGS1984Quad/13/899/1062.tif', 'geotiff/WGS1984Quad/13/899/1074.tif', 'geotiff/WGS1984Quad/13/899/1075.tif', 'geotiff/WGS1984Quad/13/899/1076.tif', 'geotiff/WGS1984Quad/13/899/1077.tif', 'geotiff/WGS1984Quad/13/900/1069.tif', 'geotiff/WGS1984Quad/13/900/1076.tif', 'geotiff/WGS1984Quad/13/900/1077.tif', 'geotiff/WGS1984Quad/13/900/1078.tif', 'geotiff/WGS1984Quad/13/900/1079.tif', 'geotiff/WGS1984Quad/13/900/1070.tif', 'geotiff/WGS1984Quad/13/900/1059.tif', 'geotiff/WGS1984Quad/13/900/1071.tif', 'geotiff/WGS1984Quad/13/900/1060.tif', 'geotiff/WGS1984Quad/13/900/1072.tif', 'geotiff/WGS1984Quad/13/900/1063.tif', 'geotiff/WGS1984Quad/13/900/1065.tif', 'geotiff/WGS1984Quad/13/900/1064.tif', 'geotiff/WGS1984Quad/13/900/1061.tif', 'geotiff/WGS1984Quad/13/900/1062.tif', 'geotiff/WGS1984Quad/13/900/1074.tif', 'geotiff/WGS1984Quad/13/900/1075.tif', 'geotiff/WGS1984Quad/13/900/1066.tif', 'geotiff/WGS1984Quad/13/900/1067.tif', 'geotiff/WGS1984Quad/13/900/1068.tif', 'geotiff/WGS1984Quad/13/916/1079.tif', 'geotiff/WGS1984Quad/13/916/1080.tif', 'geotiff/WGS1984Quad/13/916/1081.tif', 'geotiff/WGS1984Quad/13/916/1082.tif', 'geotiff/WGS1984Quad/13/916/1083.tif', 'geotiff/WGS1984Quad/13/916/1059.tif', 'geotiff/WGS1984Quad/13/916/1072.tif', 'geotiff/WGS1984Quad/13/916/1060.tif', 'geotiff/WGS1984Quad/13/916/1073.tif', 'geotiff/WGS1984Quad/13/916/1074.tif', 'geotiff/WGS1984Quad/13/916/1061.tif', 'geotiff/WGS1984Quad/13/916/1062.tif', 'geotiff/WGS1984Quad/13/916/1063.tif', 'geotiff/WGS1984Quad/13/915/1082.tif', 'geotiff/WGS1984Quad/13/915/1083.tif', 'geotiff/WGS1984Quad/13/915/1073.tif', 'geotiff/WGS1984Quad/13/915/1059.tif', 'geotiff/WGS1984Quad/13/915/1079.tif', 'geotiff/WGS1984Quad/13/915/1080.tif', 'geotiff/WGS1984Quad/13/915/1060.tif', 'geotiff/WGS1984Quad/13/915/1081.tif', 'geotiff/WGS1984Quad/13/915/1061.tif', 'geotiff/WGS1984Quad/13/915/1062.tif', 'geotiff/WGS1984Quad/13/915/1063.tif', 'geotiff/WGS1984Quad/13/895/1065.tif', 'geotiff/WGS1984Quad/13/895/1067.tif', 'geotiff/WGS1984Quad/13/895/1074.tif', 'geotiff/WGS1984Quad/13/895/1059.tif', 'geotiff/WGS1984Quad/13/895/1060.tif', 'geotiff/WGS1984Quad/13/895/1075.tif', 'geotiff/WGS1984Quad/13/895/1061.tif', 'geotiff/WGS1984Quad/13/895/1076.tif', 'geotiff/WGS1984Quad/13/895/1062.tif', 'geotiff/WGS1984Quad/13/895/1077.tif', 'geotiff/WGS1984Quad/13/895/1063.tif', 'geotiff/WGS1984Quad/13/895/1064.tif', 'geotiff/WGS1984Quad/13/895/1078.tif', 'geotiff/WGS1984Quad/13/895/1079.tif', 'geotiff/WGS1984Quad/13/895/1057.tif', 'geotiff/WGS1984Quad/13/895/1058.tif', 'geotiff/WGS1984Quad/13/917/1079.tif', 'geotiff/WGS1984Quad/13/917/1080.tif', 'geotiff/WGS1984Quad/13/917/1081.tif', 'geotiff/WGS1984Quad/13/917/1082.tif', 'geotiff/WGS1984Quad/13/917/1083.tif', 'geotiff/WGS1984Quad/13/917/1059.tif', 'geotiff/WGS1984Quad/13/917/1072.tif', 'geotiff/WGS1984Quad/13/917/1060.tif', 'geotiff/WGS1984Quad/13/917/1061.tif', 'geotiff/WGS1984Quad/13/917/1073.tif', 'geotiff/WGS1984Quad/13/917/1074.tif', 'geotiff/WGS1984Quad/13/917/1078.tif', 'geotiff/WGS1984Quad/13/917/1062.tif', 'geotiff/WGS1984Quad/13/917/1063.tif', 'geotiff/WGS1984Quad/13/896/1080.tif', 'geotiff/WGS1984Quad/13/896/1058.tif', 'geotiff/WGS1984Quad/13/896/1063.tif', 'geotiff/WGS1984Quad/13/896/1059.tif', 'geotiff/WGS1984Quad/13/896/1060.tif', 'geotiff/WGS1984Quad/13/896/1064.tif', 'geotiff/WGS1984Quad/13/896/1061.tif', 'geotiff/WGS1984Quad/13/896/1065.tif', 'geotiff/WGS1984Quad/13/896/1062.tif', 'geotiff/WGS1984Quad/13/896/1067.tif', 'geotiff/WGS1984Quad/13/896/1074.tif', 'geotiff/WGS1984Quad/13/896/1075.tif', 'geotiff/WGS1984Quad/13/896/1076.tif', 'geotiff/WGS1984Quad/13/896/1077.tif', 'geotiff/WGS1984Quad/13/896/1078.tif', 'geotiff/WGS1984Quad/13/896/1079.tif', 'geotiff/WGS1984Quad/13/919/1079.tif', 'geotiff/WGS1984Quad/13/919/1080.tif', 'geotiff/WGS1984Quad/13/919/1081.tif', 'geotiff/WGS1984Quad/13/919/1082.tif']\n",
      "Assembled future for ['geotiff/WGS1984Quad/13/919/1064.tif', 'geotiff/WGS1984Quad/13/919/1083.tif', 'geotiff/WGS1984Quad/13/919/1059.tif', 'geotiff/WGS1984Quad/13/919/1065.tif', 'geotiff/WGS1984Quad/13/919/1060.tif', 'geotiff/WGS1984Quad/13/919/1061.tif', 'geotiff/WGS1984Quad/13/919/1066.tif', 'geotiff/WGS1984Quad/13/919/1062.tif', 'geotiff/WGS1984Quad/13/919/1067.tif', 'geotiff/WGS1984Quad/13/919/1077.tif', 'geotiff/WGS1984Quad/13/919/1063.tif', 'geotiff/WGS1984Quad/13/919/1078.tif', 'geotiff/WGS1984Quad/13/918/1059.tif', 'geotiff/WGS1984Quad/13/918/1073.tif', 'geotiff/WGS1984Quad/13/918/1077.tif', 'geotiff/WGS1984Quad/13/918/1060.tif', 'geotiff/WGS1984Quad/13/918/1078.tif', 'geotiff/WGS1984Quad/13/918/1061.tif', 'geotiff/WGS1984Quad/13/918/1079.tif', 'geotiff/WGS1984Quad/13/918/1080.tif', 'geotiff/WGS1984Quad/13/918/1081.tif', 'geotiff/WGS1984Quad/13/918/1082.tif', 'geotiff/WGS1984Quad/13/918/1062.tif', 'geotiff/WGS1984Quad/13/918/1083.tif', 'geotiff/WGS1984Quad/13/918/1063.tif', 'geotiff/WGS1984Quad/13/920/1079.tif', 'geotiff/WGS1984Quad/13/920/1080.tif', 'geotiff/WGS1984Quad/13/920/1081.tif', 'geotiff/WGS1984Quad/13/920/1082.tif', 'geotiff/WGS1984Quad/13/920/1083.tif', 'geotiff/WGS1984Quad/13/920/1060.tif', 'geotiff/WGS1984Quad/13/920/1061.tif', 'geotiff/WGS1984Quad/13/920/1062.tif', 'geotiff/WGS1984Quad/13/920/1063.tif', 'geotiff/WGS1984Quad/13/920/1064.tif', 'geotiff/WGS1984Quad/13/920/1065.tif', 'geotiff/WGS1984Quad/13/920/1066.tif', 'geotiff/WGS1984Quad/13/920/1067.tif', 'geotiff/WGS1984Quad/13/920/1077.tif', 'geotiff/WGS1984Quad/13/920/1078.tif', 'geotiff/WGS1984Quad/13/901/1061.tif', 'geotiff/WGS1984Quad/13/901/1062.tif', 'geotiff/WGS1984Quad/13/901/1065.tif', 'geotiff/WGS1984Quad/13/901/1060.tif', 'geotiff/WGS1984Quad/13/901/1066.tif', 'geotiff/WGS1984Quad/13/901/1067.tif', 'geotiff/WGS1984Quad/13/901/1068.tif', 'geotiff/WGS1984Quad/13/901/1069.tif', 'geotiff/WGS1984Quad/13/901/1070.tif', 'geotiff/WGS1984Quad/13/901/1071.tif', 'geotiff/WGS1984Quad/13/901/1072.tif', 'geotiff/WGS1984Quad/13/901/1063.tif', 'geotiff/WGS1984Quad/13/901/1064.tif', 'geotiff/WGS1984Quad/13/923/1065.tif', 'geotiff/WGS1984Quad/13/923/1066.tif', 'geotiff/WGS1984Quad/13/923/1067.tif', 'geotiff/WGS1984Quad/13/923/1079.tif', 'geotiff/WGS1984Quad/13/923/1080.tif', 'geotiff/WGS1984Quad/13/923/1081.tif', 'geotiff/WGS1984Quad/13/923/1082.tif', 'geotiff/WGS1984Quad/13/923/1083.tif', 'geotiff/WGS1984Quad/13/923/1084.tif', 'geotiff/WGS1984Quad/13/921/1082.tif', 'geotiff/WGS1984Quad/13/921/1065.tif', 'geotiff/WGS1984Quad/13/921/1083.tif', 'geotiff/WGS1984Quad/13/921/1066.tif', 'geotiff/WGS1984Quad/13/921/1067.tif', 'geotiff/WGS1984Quad/13/921/1068.tif', 'geotiff/WGS1984Quad/13/921/1079.tif', 'geotiff/WGS1984Quad/13/921/1080.tif', 'geotiff/WGS1984Quad/13/921/1081.tif', 'geotiff/WGS1984Quad/13/922/1065.tif', 'geotiff/WGS1984Quad/13/922/1066.tif', 'geotiff/WGS1984Quad/13/922/1067.tif', 'geotiff/WGS1984Quad/13/922/1079.tif', 'geotiff/WGS1984Quad/13/922/1080.tif', 'geotiff/WGS1984Quad/13/922/1081.tif', 'geotiff/WGS1984Quad/13/922/1082.tif', 'geotiff/WGS1984Quad/13/922/1083.tif', 'geotiff/WGS1984Quad/13/924/1066.tif', 'geotiff/WGS1984Quad/13/924/1067.tif', 'geotiff/WGS1984Quad/13/924/1079.tif', 'geotiff/WGS1984Quad/13/924/1080.tif', 'geotiff/WGS1984Quad/13/924/1081.tif', 'geotiff/WGS1984Quad/13/924/1082.tif', 'geotiff/WGS1984Quad/13/924/1065.tif', 'geotiff/WGS1984Quad/13/924/1083.tif', 'geotiff/WGS1984Quad/13/924/1084.tif', 'geotiff/WGS1984Quad/13/902/1059.tif', 'geotiff/WGS1984Quad/13/902/1060.tif', 'geotiff/WGS1984Quad/13/902/1068.tif', 'geotiff/WGS1984Quad/13/902/1069.tif', 'geotiff/WGS1984Quad/13/902/1070.tif', 'geotiff/WGS1984Quad/13/902/1071.tif', 'geotiff/WGS1984Quad/13/902/1072.tif', 'geotiff/WGS1984Quad/13/902/1064.tif', 'geotiff/WGS1984Quad/13/902/1066.tif', 'geotiff/WGS1984Quad/13/902/1065.tif', 'geotiff/WGS1984Quad/13/902/1061.tif', 'geotiff/WGS1984Quad/13/902/1067.tif', 'geotiff/WGS1984Quad/13/902/1062.tif', 'geotiff/WGS1984Quad/13/902/1063.tif', 'geotiff/WGS1984Quad/13/892/1059.tif', 'geotiff/WGS1984Quad/13/892/1060.tif', 'geotiff/WGS1984Quad/13/892/1075.tif', 'geotiff/WGS1984Quad/13/892/1061.tif', 'geotiff/WGS1984Quad/13/892/1076.tif', 'geotiff/WGS1984Quad/13/892/1062.tif', 'geotiff/WGS1984Quad/13/892/1077.tif', 'geotiff/WGS1984Quad/13/892/1078.tif', 'geotiff/WGS1984Quad/13/892/1063.tif', 'geotiff/WGS1984Quad/13/892/1079.tif', 'geotiff/WGS1984Quad/13/892/1064.tif', 'geotiff/WGS1984Quad/13/892/1080.tif', 'geotiff/WGS1984Quad/13/892/1057.tif', 'geotiff/WGS1984Quad/13/892/1058.tif', 'geotiff/WGS1984Quad/13/925/1081.tif', 'geotiff/WGS1984Quad/13/925/1066.tif', 'geotiff/WGS1984Quad/13/925/1067.tif', 'geotiff/WGS1984Quad/13/925/1082.tif', 'geotiff/WGS1984Quad/13/925/1079.tif', 'geotiff/WGS1984Quad/13/925/1083.tif', 'geotiff/WGS1984Quad/13/925/1084.tif', 'geotiff/WGS1984Quad/13/925/1080.tif', 'geotiff/WGS1984Quad/13/926/1065.tif', 'geotiff/WGS1984Quad/13/926/1066.tif', 'geotiff/WGS1984Quad/13/926/1067.tif', 'geotiff/WGS1984Quad/13/926/1068.tif', 'geotiff/WGS1984Quad/13/926/1080.tif', 'geotiff/WGS1984Quad/13/926/1081.tif', 'geotiff/WGS1984Quad/13/926/1082.tif', 'geotiff/WGS1984Quad/13/926/1083.tif', 'geotiff/WGS1984Quad/13/893/1081.tif', 'geotiff/WGS1984Quad/13/893/1082.tif', 'geotiff/WGS1984Quad/13/893/1057.tif', 'geotiff/WGS1984Quad/13/893/1075.tif', 'geotiff/WGS1984Quad/13/893/1058.tif', 'geotiff/WGS1984Quad/13/893/1076.tif', 'geotiff/WGS1984Quad/13/893/1059.tif', 'geotiff/WGS1984Quad/13/893/1077.tif', 'geotiff/WGS1984Quad/13/893/1060.tif', 'geotiff/WGS1984Quad/13/893/1061.tif', 'geotiff/WGS1984Quad/13/893/1078.tif', 'geotiff/WGS1984Quad/13/893/1062.tif', 'geotiff/WGS1984Quad/13/893/1079.tif', 'geotiff/WGS1984Quad/13/893/1063.tif', 'geotiff/WGS1984Quad/13/893/1064.tif', 'geotiff/WGS1984Quad/13/893/1080.tif', 'geotiff/WGS1984Quad/13/927/1065.tif', 'geotiff/WGS1984Quad/13/927/1067.tif', 'geotiff/WGS1984Quad/13/927/1068.tif', 'geotiff/WGS1984Quad/13/927/1066.tif', 'geotiff/WGS1984Quad/13/894/1078.tif', 'geotiff/WGS1984Quad/13/894/1079.tif', 'geotiff/WGS1984Quad/13/894/1080.tif', 'geotiff/WGS1984Quad/13/894/1081.tif', 'geotiff/WGS1984Quad/13/894/1057.tif', 'geotiff/WGS1984Quad/13/894/1063.tif', 'geotiff/WGS1984Quad/13/894/1064.tif', 'geotiff/WGS1984Quad/13/894/1058.tif', 'geotiff/WGS1984Quad/13/894/1059.tif', 'geotiff/WGS1984Quad/13/894/1060.tif', 'geotiff/WGS1984Quad/13/894/1061.tif', 'geotiff/WGS1984Quad/13/894/1062.tif', 'geotiff/WGS1984Quad/13/894/1074.tif', 'geotiff/WGS1984Quad/13/894/1075.tif', 'geotiff/WGS1984Quad/13/894/1076.tif', 'geotiff/WGS1984Quad/13/894/1077.tif', 'geotiff/WGS1984Quad/13/928/1065.tif', 'geotiff/WGS1984Quad/13/928/1066.tif', 'geotiff/WGS1984Quad/13/928/1067.tif', 'geotiff/WGS1984Quad/13/928/1068.tif', 'geotiff/WGS1984Quad/13/913/1059.tif', 'geotiff/WGS1984Quad/13/913/1060.tif', 'geotiff/WGS1984Quad/13/913/1061.tif', 'geotiff/WGS1984Quad/13/913/1062.tif', 'geotiff/WGS1984Quad/13/913/1063.tif', 'geotiff/WGS1984Quad/13/913/1080.tif', 'geotiff/WGS1984Quad/13/913/1081.tif', 'geotiff/WGS1984Quad/13/913/1082.tif', 'geotiff/WGS1984Quad/13/913/1083.tif', 'geotiff/WGS1984Quad/13/929/1065.tif', 'geotiff/WGS1984Quad/13/929/1066.tif', 'geotiff/WGS1984Quad/13/929/1067.tif', 'geotiff/WGS1984Quad/13/929/1068.tif', 'geotiff/WGS1984Quad/13/914/1082.tif', 'geotiff/WGS1984Quad/13/914/1083.tif', 'geotiff/WGS1984Quad/13/914/1059.tif', 'geotiff/WGS1984Quad/13/914/1060.tif', 'geotiff/WGS1984Quad/13/914/1079.tif', 'geotiff/WGS1984Quad/13/914/1061.tif', 'geotiff/WGS1984Quad/13/914/1080.tif', 'geotiff/WGS1984Quad/13/914/1081.tif', 'geotiff/WGS1984Quad/13/914/1062.tif', 'geotiff/WGS1984Quad/13/914/1063.tif', 'geotiff/WGS1984Quad/13/930/1066.tif', 'geotiff/WGS1984Quad/13/930/1067.tif', 'geotiff/WGS1984Quad/13/903/1068.tif', 'geotiff/WGS1984Quad/13/903/1069.tif', 'geotiff/WGS1984Quad/13/903/1061.tif']\n",
      "Assembled future for ['geotiff/WGS1984Quad/13/903/1065.tif', 'geotiff/WGS1984Quad/13/903/1062.tif', 'geotiff/WGS1984Quad/13/903/1066.tif', 'geotiff/WGS1984Quad/13/903/1067.tif', 'geotiff/WGS1984Quad/13/903/1063.tif', 'geotiff/WGS1984Quad/13/903/1064.tif', 'geotiff/WGS1984Quad/13/903/1059.tif', 'geotiff/WGS1984Quad/13/903/1060.tif', 'geotiff/WGS1984Quad/13/904/1067.tif', 'geotiff/WGS1984Quad/13/904/1068.tif', 'geotiff/WGS1984Quad/13/904/1059.tif', 'geotiff/WGS1984Quad/13/904/1060.tif', 'geotiff/WGS1984Quad/13/904/1061.tif', 'geotiff/WGS1984Quad/13/904/1062.tif', 'geotiff/WGS1984Quad/13/904/1063.tif', 'geotiff/WGS1984Quad/13/904/1064.tif', 'geotiff/WGS1984Quad/13/904/1065.tif', 'geotiff/WGS1984Quad/13/904/1066.tif', 'geotiff/WGS1984Quad/13/907/1069.tif', 'geotiff/WGS1984Quad/13/907/1059.tif', 'geotiff/WGS1984Quad/13/907/1060.tif', 'geotiff/WGS1984Quad/13/907/1061.tif', 'geotiff/WGS1984Quad/13/907/1062.tif', 'geotiff/WGS1984Quad/13/907/1067.tif', 'geotiff/WGS1984Quad/13/907/1063.tif', 'geotiff/WGS1984Quad/13/907/1068.tif', 'geotiff/WGS1984Quad/13/906/1068.tif', 'geotiff/WGS1984Quad/13/906/1069.tif', 'geotiff/WGS1984Quad/13/906/1059.tif', 'geotiff/WGS1984Quad/13/906/1060.tif', 'geotiff/WGS1984Quad/13/906/1061.tif', 'geotiff/WGS1984Quad/13/906/1063.tif', 'geotiff/WGS1984Quad/13/906/1064.tif', 'geotiff/WGS1984Quad/13/906/1065.tif', 'geotiff/WGS1984Quad/13/906/1066.tif', 'geotiff/WGS1984Quad/13/906/1067.tif', 'geotiff/WGS1984Quad/13/905/1067.tif', 'geotiff/WGS1984Quad/13/905/1068.tif', 'geotiff/WGS1984Quad/13/905/1059.tif', 'geotiff/WGS1984Quad/13/905/1060.tif', 'geotiff/WGS1984Quad/13/905/1061.tif', 'geotiff/WGS1984Quad/13/905/1062.tif', 'geotiff/WGS1984Quad/13/905/1063.tif', 'geotiff/WGS1984Quad/13/905/1064.tif', 'geotiff/WGS1984Quad/13/905/1065.tif', 'geotiff/WGS1984Quad/13/905/1066.tif', 'geotiff/WGS1984Quad/13/908/1060.tif', 'geotiff/WGS1984Quad/13/908/1067.tif', 'geotiff/WGS1984Quad/13/908/1068.tif', 'geotiff/WGS1984Quad/13/908/1069.tif', 'geotiff/WGS1984Quad/13/908/1059.tif', 'geotiff/WGS1984Quad/13/908/1061.tif', 'geotiff/WGS1984Quad/13/908/1062.tif', 'geotiff/WGS1984Quad/13/908/1063.tif', 'geotiff/WGS1984Quad/12/456/539.tif', 'geotiff/WGS1984Quad/12/456/536.tif', 'geotiff/WGS1984Quad/12/456/531.tif', 'geotiff/WGS1984Quad/12/456/529.tif', 'geotiff/WGS1984Quad/12/456/540.tif', 'geotiff/WGS1984Quad/12/456/534.tif', 'geotiff/WGS1984Quad/12/456/541.tif', 'geotiff/WGS1984Quad/12/456/530.tif', 'geotiff/WGS1984Quad/12/456/533.tif', 'geotiff/WGS1984Quad/12/459/532.tif', 'geotiff/WGS1984Quad/12/459/536.tif', 'geotiff/WGS1984Quad/12/459/540.tif', 'geotiff/WGS1984Quad/12/459/538.tif', 'geotiff/WGS1984Quad/12/459/541.tif', 'geotiff/WGS1984Quad/12/459/530.tif', 'geotiff/WGS1984Quad/12/459/539.tif', 'geotiff/WGS1984Quad/12/459/529.tif', 'geotiff/WGS1984Quad/12/459/531.tif', 'geotiff/WGS1984Quad/12/459/533.tif', 'geotiff/WGS1984Quad/12/450/533.tif', 'geotiff/WGS1984Quad/12/450/536.tif', 'geotiff/WGS1984Quad/12/450/538.tif', 'geotiff/WGS1984Quad/12/450/532.tif', 'geotiff/WGS1984Quad/12/450/534.tif', 'geotiff/WGS1984Quad/12/450/530.tif', 'geotiff/WGS1984Quad/12/450/539.tif', 'geotiff/WGS1984Quad/12/450/531.tif', 'geotiff/WGS1984Quad/12/450/535.tif', 'geotiff/WGS1984Quad/12/450/537.tif', 'geotiff/WGS1984Quad/12/450/529.tif', 'geotiff/WGS1984Quad/12/446/538.tif', 'geotiff/WGS1984Quad/12/446/532.tif', 'geotiff/WGS1984Quad/12/446/539.tif', 'geotiff/WGS1984Quad/12/446/528.tif', 'geotiff/WGS1984Quad/12/446/530.tif', 'geotiff/WGS1984Quad/12/446/541.tif', 'geotiff/WGS1984Quad/12/446/531.tif', 'geotiff/WGS1984Quad/12/446/540.tif', 'geotiff/WGS1984Quad/12/446/537.tif', 'geotiff/WGS1984Quad/12/446/529.tif', 'geotiff/WGS1984Quad/12/458/540.tif', 'geotiff/WGS1984Quad/12/458/531.tif', 'geotiff/WGS1984Quad/12/458/529.tif', 'geotiff/WGS1984Quad/12/458/530.tif', 'geotiff/WGS1984Quad/12/458/541.tif', 'geotiff/WGS1984Quad/12/458/536.tif', 'geotiff/WGS1984Quad/12/458/537.tif', 'geotiff/WGS1984Quad/12/458/539.tif', 'geotiff/WGS1984Quad/12/462/539.tif', 'geotiff/WGS1984Quad/12/462/533.tif', 'geotiff/WGS1984Quad/12/462/540.tif', 'geotiff/WGS1984Quad/12/462/542.tif', 'geotiff/WGS1984Quad/12/462/532.tif', 'geotiff/WGS1984Quad/12/462/541.tif', 'geotiff/WGS1984Quad/12/449/540.tif', 'geotiff/WGS1984Quad/12/449/537.tif', 'geotiff/WGS1984Quad/12/449/534.tif', 'geotiff/WGS1984Quad/12/449/538.tif', 'geotiff/WGS1984Quad/12/449/532.tif', 'geotiff/WGS1984Quad/12/449/530.tif', 'geotiff/WGS1984Quad/12/449/533.tif', 'geotiff/WGS1984Quad/12/449/539.tif', 'geotiff/WGS1984Quad/12/449/529.tif', 'geotiff/WGS1984Quad/12/449/531.tif', 'geotiff/WGS1984Quad/12/453/531.tif', 'geotiff/WGS1984Quad/12/453/530.tif', 'geotiff/WGS1984Quad/12/453/529.tif', 'geotiff/WGS1984Quad/12/453/533.tif', 'geotiff/WGS1984Quad/12/453/532.tif', 'geotiff/WGS1984Quad/12/453/534.tif', 'geotiff/WGS1984Quad/12/448/540.tif', 'geotiff/WGS1984Quad/12/448/529.tif', 'geotiff/WGS1984Quad/12/448/533.tif', 'geotiff/WGS1984Quad/12/448/530.tif', 'geotiff/WGS1984Quad/12/448/532.tif', 'geotiff/WGS1984Quad/12/448/538.tif', 'geotiff/WGS1984Quad/12/448/539.tif', 'geotiff/WGS1984Quad/12/448/531.tif', 'geotiff/WGS1984Quad/12/448/537.tif', 'geotiff/WGS1984Quad/12/463/541.tif', 'geotiff/WGS1984Quad/12/463/532.tif', 'geotiff/WGS1984Quad/12/463/533.tif', 'geotiff/WGS1984Quad/12/463/534.tif', 'geotiff/WGS1984Quad/12/463/540.tif', 'geotiff/WGS1984Quad/12/457/536.tif', 'geotiff/WGS1984Quad/12/457/530.tif', 'geotiff/WGS1984Quad/12/457/541.tif', 'geotiff/WGS1984Quad/12/457/531.tif', 'geotiff/WGS1984Quad/12/457/539.tif', 'geotiff/WGS1984Quad/12/457/529.tif', 'geotiff/WGS1984Quad/12/457/540.tif', 'geotiff/WGS1984Quad/12/460/540.tif', 'geotiff/WGS1984Quad/12/460/541.tif', 'geotiff/WGS1984Quad/12/460/530.tif', 'geotiff/WGS1984Quad/12/460/532.tif', 'geotiff/WGS1984Quad/12/460/534.tif', 'geotiff/WGS1984Quad/12/460/539.tif', 'geotiff/WGS1984Quad/12/460/533.tif', 'geotiff/WGS1984Quad/12/460/531.tif', 'geotiff/WGS1984Quad/12/460/538.tif', 'geotiff/WGS1984Quad/12/447/528.tif', 'geotiff/WGS1984Quad/12/447/539.tif', 'geotiff/WGS1984Quad/12/447/537.tif', 'geotiff/WGS1984Quad/12/447/531.tif', 'geotiff/WGS1984Quad/12/447/533.tif', 'geotiff/WGS1984Quad/12/447/538.tif', 'geotiff/WGS1984Quad/12/447/529.tif', 'geotiff/WGS1984Quad/12/447/540.tif', 'geotiff/WGS1984Quad/12/447/530.tif', 'geotiff/WGS1984Quad/12/447/532.tif', 'geotiff/WGS1984Quad/12/451/529.tif', 'geotiff/WGS1984Quad/12/451/535.tif', 'geotiff/WGS1984Quad/12/451/536.tif', 'geotiff/WGS1984Quad/12/451/531.tif', 'geotiff/WGS1984Quad/12/451/532.tif', 'geotiff/WGS1984Quad/12/451/534.tif', 'geotiff/WGS1984Quad/12/451/530.tif', 'geotiff/WGS1984Quad/12/451/533.tif', 'geotiff/WGS1984Quad/12/461/541.tif', 'geotiff/WGS1984Quad/12/461/533.tif', 'geotiff/WGS1984Quad/12/461/542.tif', 'geotiff/WGS1984Quad/12/461/540.tif', 'geotiff/WGS1984Quad/12/461/532.tif', 'geotiff/WGS1984Quad/12/461/539.tif', 'geotiff/WGS1984Quad/12/455/533.tif', 'geotiff/WGS1984Quad/12/455/537.tif', 'geotiff/WGS1984Quad/12/455/539.tif', 'geotiff/WGS1984Quad/12/455/529.tif', 'geotiff/WGS1984Quad/12/455/535.tif', 'geotiff/WGS1984Quad/12/455/531.tif', 'geotiff/WGS1984Quad/12/455/540.tif', 'geotiff/WGS1984Quad/12/455/536.tif', 'geotiff/WGS1984Quad/12/455/541.tif', 'geotiff/WGS1984Quad/12/455/534.tif', 'geotiff/WGS1984Quad/12/455/530.tif', 'geotiff/WGS1984Quad/12/464/533.tif', 'geotiff/WGS1984Quad/12/464/534.tif', 'geotiff/WGS1984Quad/12/464/532.tif', 'geotiff/WGS1984Quad/12/454/531.tif', 'geotiff/WGS1984Quad/12/454/529.tif', 'geotiff/WGS1984Quad/12/454/533.tif', 'geotiff/WGS1984Quad/12/454/530.tif', 'geotiff/WGS1984Quad/12/454/534.tif', 'geotiff/WGS1984Quad/12/452/533.tif', 'geotiff/WGS1984Quad/12/452/531.tif', 'geotiff/WGS1984Quad/12/452/529.tif']\n",
      "Assembled future for ['geotiff/WGS1984Quad/12/452/534.tif', 'geotiff/WGS1984Quad/12/452/530.tif', 'geotiff/WGS1984Quad/12/452/532.tif', 'geotiff/WGS1984Quad/12/465/533.tif', 'geotiff/WGS1984Quad/11/232/267.tif', 'geotiff/WGS1984Quad/11/232/266.tif', 'geotiff/WGS1984Quad/11/230/269.tif', 'geotiff/WGS1984Quad/11/230/271.tif', 'geotiff/WGS1984Quad/11/230/266.tif', 'geotiff/WGS1984Quad/11/230/270.tif', 'geotiff/WGS1984Quad/11/230/265.tif', 'geotiff/WGS1984Quad/11/230/267.tif', 'geotiff/WGS1984Quad/11/223/264.tif', 'geotiff/WGS1984Quad/11/223/266.tif', 'geotiff/WGS1984Quad/11/223/268.tif', 'geotiff/WGS1984Quad/11/223/270.tif', 'geotiff/WGS1984Quad/11/223/265.tif', 'geotiff/WGS1984Quad/11/223/269.tif', 'geotiff/WGS1984Quad/11/226/267.tif', 'geotiff/WGS1984Quad/11/226/265.tif', 'geotiff/WGS1984Quad/11/226/266.tif', 'geotiff/WGS1984Quad/11/226/264.tif', 'geotiff/WGS1984Quad/11/231/269.tif', 'geotiff/WGS1984Quad/11/231/267.tif', 'geotiff/WGS1984Quad/11/231/271.tif', 'geotiff/WGS1984Quad/11/231/266.tif', 'geotiff/WGS1984Quad/11/231/270.tif', 'geotiff/WGS1984Quad/11/227/266.tif', 'geotiff/WGS1984Quad/11/227/268.tif', 'geotiff/WGS1984Quad/11/227/270.tif', 'geotiff/WGS1984Quad/11/227/265.tif', 'geotiff/WGS1984Quad/11/227/267.tif', 'geotiff/WGS1984Quad/11/227/269.tif', 'geotiff/WGS1984Quad/11/227/264.tif', 'geotiff/WGS1984Quad/11/224/264.tif', 'geotiff/WGS1984Quad/11/224/266.tif', 'geotiff/WGS1984Quad/11/224/268.tif', 'geotiff/WGS1984Quad/11/224/270.tif', 'geotiff/WGS1984Quad/11/224/267.tif', 'geotiff/WGS1984Quad/11/224/265.tif', 'geotiff/WGS1984Quad/11/224/269.tif', 'geotiff/WGS1984Quad/11/229/265.tif', 'geotiff/WGS1984Quad/11/229/269.tif', 'geotiff/WGS1984Quad/11/229/264.tif', 'geotiff/WGS1984Quad/11/229/266.tif', 'geotiff/WGS1984Quad/11/229/268.tif', 'geotiff/WGS1984Quad/11/229/270.tif', 'geotiff/WGS1984Quad/11/228/267.tif', 'geotiff/WGS1984Quad/11/228/269.tif', 'geotiff/WGS1984Quad/11/228/265.tif', 'geotiff/WGS1984Quad/11/228/266.tif', 'geotiff/WGS1984Quad/11/228/268.tif', 'geotiff/WGS1984Quad/11/228/264.tif', 'geotiff/WGS1984Quad/11/228/270.tif', 'geotiff/WGS1984Quad/11/225/265.tif', 'geotiff/WGS1984Quad/11/225/267.tif', 'geotiff/WGS1984Quad/11/225/269.tif', 'geotiff/WGS1984Quad/11/225/264.tif', 'geotiff/WGS1984Quad/11/225/266.tif', 'geotiff/WGS1984Quad/11/225/268.tif', 'geotiff/WGS1984Quad/10/111/133.tif', 'geotiff/WGS1984Quad/10/111/135.tif', 'geotiff/WGS1984Quad/10/111/132.tif', 'geotiff/WGS1984Quad/10/111/134.tif', 'geotiff/WGS1984Quad/10/112/132.tif', 'geotiff/WGS1984Quad/10/112/134.tif', 'geotiff/WGS1984Quad/10/112/133.tif', 'geotiff/WGS1984Quad/10/112/135.tif', 'geotiff/WGS1984Quad/10/113/132.tif', 'geotiff/WGS1984Quad/10/113/135.tif', 'geotiff/WGS1984Quad/10/113/134.tif', 'geotiff/WGS1984Quad/10/113/133.tif', 'geotiff/WGS1984Quad/10/116/133.tif', 'geotiff/WGS1984Quad/10/114/132.tif', 'geotiff/WGS1984Quad/10/114/133.tif', 'geotiff/WGS1984Quad/10/114/134.tif', 'geotiff/WGS1984Quad/10/114/135.tif', 'geotiff/WGS1984Quad/10/115/132.tif', 'geotiff/WGS1984Quad/10/115/134.tif', 'geotiff/WGS1984Quad/10/115/133.tif', 'geotiff/WGS1984Quad/10/115/135.tif', 'geotiff/WGS1984Quad/9/55/67.tif', 'geotiff/WGS1984Quad/9/55/66.tif', 'geotiff/WGS1984Quad/9/57/67.tif', 'geotiff/WGS1984Quad/9/57/66.tif', 'geotiff/WGS1984Quad/9/56/67.tif', 'geotiff/WGS1984Quad/9/56/66.tif', 'geotiff/WGS1984Quad/9/58/66.tif', 'geotiff/WGS1984Quad/8/29/33.tif', 'geotiff/WGS1984Quad/8/28/33.tif', 'geotiff/WGS1984Quad/8/27/33.tif', 'geotiff/WGS1984Quad/7/14/16.tif', 'geotiff/WGS1984Quad/7/13/16.tif', 'geotiff/WGS1984Quad/6/7/8.tif', 'geotiff/WGS1984Quad/6/6/8.tif', 'geotiff/WGS1984Quad/5/3/4.tif', 'geotiff/WGS1984Quad/4/1/2.tif', 'geotiff/WGS1984Quad/3/0/1.tif', 'geotiff/WGS1984Quad/2/0/0.tif', 'geotiff/WGS1984Quad/1/0/0.tif']\n",
      "Created webtiles for ['geotiff/WGS1984Quad/13/909/1059.tif', 'geotiff/WGS1984Quad/13/909/1060.tif', 'geotiff/WGS1984Quad/13/909/1061.tif', 'geotiff/WGS1984Quad/13/909/1068.tif', 'geotiff/WGS1984Quad/13/909/1069.tif', 'geotiff/WGS1984Quad/13/909/1067.tif', 'geotiff/WGS1984Quad/13/909/1062.tif', 'geotiff/WGS1984Quad/13/909/1063.tif', 'geotiff/WGS1984Quad/13/910/1079.tif', 'geotiff/WGS1984Quad/13/910/1080.tif', 'geotiff/WGS1984Quad/13/910/1081.tif', 'geotiff/WGS1984Quad/13/910/1061.tif', 'geotiff/WGS1984Quad/13/910/1082.tif', 'geotiff/WGS1984Quad/13/910/1062.tif', 'geotiff/WGS1984Quad/13/910/1083.tif', 'geotiff/WGS1984Quad/13/910/1067.tif', 'geotiff/WGS1984Quad/13/910/1063.tif', 'geotiff/WGS1984Quad/13/910/1068.tif', 'geotiff/WGS1984Quad/13/910/1069.tif', 'geotiff/WGS1984Quad/13/910/1070.tif', 'geotiff/WGS1984Quad/13/910/1071.tif', 'geotiff/WGS1984Quad/13/910/1072.tif', 'geotiff/WGS1984Quad/13/910/1073.tif', 'geotiff/WGS1984Quad/13/910/1074.tif', 'geotiff/WGS1984Quad/13/910/1059.tif', 'geotiff/WGS1984Quad/13/910/1060.tif', 'geotiff/WGS1984Quad/13/911/1067.tif', 'geotiff/WGS1984Quad/13/911/1059.tif', 'geotiff/WGS1984Quad/13/911/1082.tif', 'geotiff/WGS1984Quad/13/911/1083.tif', 'geotiff/WGS1984Quad/13/911/1063.tif', 'geotiff/WGS1984Quad/13/911/1068.tif', 'geotiff/WGS1984Quad/13/911/1069.tif', 'geotiff/WGS1984Quad/13/911/1060.tif', 'geotiff/WGS1984Quad/13/911/1070.tif', 'geotiff/WGS1984Quad/13/911/1072.tif', 'geotiff/WGS1984Quad/13/911/1073.tif', 'geotiff/WGS1984Quad/13/911/1061.tif', 'geotiff/WGS1984Quad/13/911/1074.tif', 'geotiff/WGS1984Quad/13/911/1079.tif', 'geotiff/WGS1984Quad/13/911/1080.tif', 'geotiff/WGS1984Quad/13/911/1081.tif', 'geotiff/WGS1984Quad/13/911/1062.tif', 'geotiff/WGS1984Quad/13/912/1080.tif', 'geotiff/WGS1984Quad/13/912/1081.tif', 'geotiff/WGS1984Quad/13/912/1082.tif', 'geotiff/WGS1984Quad/13/912/1083.tif', 'geotiff/WGS1984Quad/13/912/1059.tif', 'geotiff/WGS1984Quad/13/912/1060.tif', 'geotiff/WGS1984Quad/13/912/1062.tif', 'geotiff/WGS1984Quad/13/912/1061.tif', 'geotiff/WGS1984Quad/13/912/1063.tif', 'geotiff/WGS1984Quad/13/912/1067.tif', 'geotiff/WGS1984Quad/13/912/1068.tif', 'geotiff/WGS1984Quad/13/912/1069.tif', 'geotiff/WGS1984Quad/13/912/1073.tif', 'geotiff/WGS1984Quad/13/912/1079.tif', 'geotiff/WGS1984Quad/13/897/1060.tif', 'geotiff/WGS1984Quad/13/897/1061.tif', 'geotiff/WGS1984Quad/13/897/1065.tif', 'geotiff/WGS1984Quad/13/897/1067.tif', 'geotiff/WGS1984Quad/13/897/1074.tif', 'geotiff/WGS1984Quad/13/897/1062.tif', 'geotiff/WGS1984Quad/13/897/1066.tif', 'geotiff/WGS1984Quad/13/897/1075.tif', 'geotiff/WGS1984Quad/13/897/1076.tif', 'geotiff/WGS1984Quad/13/897/1063.tif', 'geotiff/WGS1984Quad/13/897/1077.tif', 'geotiff/WGS1984Quad/13/897/1078.tif', 'geotiff/WGS1984Quad/13/897/1079.tif', 'geotiff/WGS1984Quad/13/897/1080.tif', 'geotiff/WGS1984Quad/13/897/1064.tif', 'geotiff/WGS1984Quad/13/897/1059.tif', 'geotiff/WGS1984Quad/13/898/1076.tif', 'geotiff/WGS1984Quad/13/898/1077.tif', 'geotiff/WGS1984Quad/13/898/1078.tif', 'geotiff/WGS1984Quad/13/898/1079.tif', 'geotiff/WGS1984Quad/13/898/1080.tif', 'geotiff/WGS1984Quad/13/898/1059.tif', 'geotiff/WGS1984Quad/13/898/1060.tif', 'geotiff/WGS1984Quad/13/898/1065.tif', 'geotiff/WGS1984Quad/13/898/1061.tif', 'geotiff/WGS1984Quad/13/898/1062.tif', 'geotiff/WGS1984Quad/13/898/1066.tif', 'geotiff/WGS1984Quad/13/898/1067.tif', 'geotiff/WGS1984Quad/13/898/1063.tif', 'geotiff/WGS1984Quad/13/898/1064.tif', 'geotiff/WGS1984Quad/13/898/1074.tif', 'geotiff/WGS1984Quad/13/898/1075.tif', 'geotiff/WGS1984Quad/13/899/1078.tif', 'geotiff/WGS1984Quad/13/899/1079.tif', 'geotiff/WGS1984Quad/13/899/1080.tif', 'geotiff/WGS1984Quad/13/899/1066.tif', 'geotiff/WGS1984Quad/13/899/1059.tif', 'geotiff/WGS1984Quad/13/899/1060.tif', 'geotiff/WGS1984Quad/13/899/1067.tif', 'geotiff/WGS1984Quad/13/899/1061.tif', 'geotiff/WGS1984Quad/13/899/1068.tif', 'geotiff/WGS1984Quad/13/899/1063.tif', 'geotiff/WGS1984Quad/13/899/1064.tif', 'geotiff/WGS1984Quad/13/899/1065.tif', 'geotiff/WGS1984Quad/13/899/1062.tif', 'geotiff/WGS1984Quad/13/899/1074.tif', 'geotiff/WGS1984Quad/13/899/1075.tif', 'geotiff/WGS1984Quad/13/899/1076.tif', 'geotiff/WGS1984Quad/13/899/1077.tif', 'geotiff/WGS1984Quad/13/900/1069.tif', 'geotiff/WGS1984Quad/13/900/1076.tif', 'geotiff/WGS1984Quad/13/900/1077.tif', 'geotiff/WGS1984Quad/13/900/1078.tif', 'geotiff/WGS1984Quad/13/900/1079.tif', 'geotiff/WGS1984Quad/13/900/1070.tif', 'geotiff/WGS1984Quad/13/900/1059.tif', 'geotiff/WGS1984Quad/13/900/1071.tif', 'geotiff/WGS1984Quad/13/900/1060.tif', 'geotiff/WGS1984Quad/13/900/1072.tif', 'geotiff/WGS1984Quad/13/900/1063.tif', 'geotiff/WGS1984Quad/13/900/1065.tif', 'geotiff/WGS1984Quad/13/900/1064.tif', 'geotiff/WGS1984Quad/13/900/1061.tif', 'geotiff/WGS1984Quad/13/900/1062.tif', 'geotiff/WGS1984Quad/13/900/1074.tif', 'geotiff/WGS1984Quad/13/900/1075.tif', 'geotiff/WGS1984Quad/13/900/1066.tif', 'geotiff/WGS1984Quad/13/900/1067.tif', 'geotiff/WGS1984Quad/13/900/1068.tif', 'geotiff/WGS1984Quad/13/916/1079.tif', 'geotiff/WGS1984Quad/13/916/1080.tif', 'geotiff/WGS1984Quad/13/916/1081.tif', 'geotiff/WGS1984Quad/13/916/1082.tif', 'geotiff/WGS1984Quad/13/916/1083.tif', 'geotiff/WGS1984Quad/13/916/1059.tif', 'geotiff/WGS1984Quad/13/916/1072.tif', 'geotiff/WGS1984Quad/13/916/1060.tif', 'geotiff/WGS1984Quad/13/916/1073.tif', 'geotiff/WGS1984Quad/13/916/1074.tif', 'geotiff/WGS1984Quad/13/916/1061.tif', 'geotiff/WGS1984Quad/13/916/1062.tif', 'geotiff/WGS1984Quad/13/916/1063.tif', 'geotiff/WGS1984Quad/13/915/1082.tif', 'geotiff/WGS1984Quad/13/915/1083.tif', 'geotiff/WGS1984Quad/13/915/1073.tif', 'geotiff/WGS1984Quad/13/915/1059.tif', 'geotiff/WGS1984Quad/13/915/1079.tif', 'geotiff/WGS1984Quad/13/915/1080.tif', 'geotiff/WGS1984Quad/13/915/1060.tif', 'geotiff/WGS1984Quad/13/915/1081.tif', 'geotiff/WGS1984Quad/13/915/1061.tif', 'geotiff/WGS1984Quad/13/915/1062.tif', 'geotiff/WGS1984Quad/13/915/1063.tif', 'geotiff/WGS1984Quad/13/895/1065.tif', 'geotiff/WGS1984Quad/13/895/1067.tif', 'geotiff/WGS1984Quad/13/895/1074.tif', 'geotiff/WGS1984Quad/13/895/1059.tif', 'geotiff/WGS1984Quad/13/895/1060.tif', 'geotiff/WGS1984Quad/13/895/1075.tif', 'geotiff/WGS1984Quad/13/895/1061.tif', 'geotiff/WGS1984Quad/13/895/1076.tif', 'geotiff/WGS1984Quad/13/895/1062.tif', 'geotiff/WGS1984Quad/13/895/1077.tif', 'geotiff/WGS1984Quad/13/895/1063.tif', 'geotiff/WGS1984Quad/13/895/1064.tif', 'geotiff/WGS1984Quad/13/895/1078.tif', 'geotiff/WGS1984Quad/13/895/1079.tif', 'geotiff/WGS1984Quad/13/895/1057.tif', 'geotiff/WGS1984Quad/13/895/1058.tif', 'geotiff/WGS1984Quad/13/917/1079.tif', 'geotiff/WGS1984Quad/13/917/1080.tif', 'geotiff/WGS1984Quad/13/917/1081.tif', 'geotiff/WGS1984Quad/13/917/1082.tif', 'geotiff/WGS1984Quad/13/917/1083.tif', 'geotiff/WGS1984Quad/13/917/1059.tif', 'geotiff/WGS1984Quad/13/917/1072.tif', 'geotiff/WGS1984Quad/13/917/1060.tif', 'geotiff/WGS1984Quad/13/917/1061.tif', 'geotiff/WGS1984Quad/13/917/1073.tif', 'geotiff/WGS1984Quad/13/917/1074.tif', 'geotiff/WGS1984Quad/13/917/1078.tif', 'geotiff/WGS1984Quad/13/917/1062.tif', 'geotiff/WGS1984Quad/13/917/1063.tif', 'geotiff/WGS1984Quad/13/896/1080.tif', 'geotiff/WGS1984Quad/13/896/1058.tif', 'geotiff/WGS1984Quad/13/896/1063.tif', 'geotiff/WGS1984Quad/13/896/1059.tif', 'geotiff/WGS1984Quad/13/896/1060.tif', 'geotiff/WGS1984Quad/13/896/1064.tif', 'geotiff/WGS1984Quad/13/896/1061.tif', 'geotiff/WGS1984Quad/13/896/1065.tif', 'geotiff/WGS1984Quad/13/896/1062.tif', 'geotiff/WGS1984Quad/13/896/1067.tif', 'geotiff/WGS1984Quad/13/896/1074.tif', 'geotiff/WGS1984Quad/13/896/1075.tif', 'geotiff/WGS1984Quad/13/896/1076.tif', 'geotiff/WGS1984Quad/13/896/1077.tif', 'geotiff/WGS1984Quad/13/896/1078.tif', 'geotiff/WGS1984Quad/13/896/1079.tif', 'geotiff/WGS1984Quad/13/919/1079.tif', 'geotiff/WGS1984Quad/13/919/1080.tif', 'geotiff/WGS1984Quad/13/919/1081.tif', 'geotiff/WGS1984Quad/13/919/1082.tif']\n",
      "Created webtiles for ['geotiff/WGS1984Quad/13/919/1064.tif', 'geotiff/WGS1984Quad/13/919/1083.tif', 'geotiff/WGS1984Quad/13/919/1059.tif', 'geotiff/WGS1984Quad/13/919/1065.tif', 'geotiff/WGS1984Quad/13/919/1060.tif', 'geotiff/WGS1984Quad/13/919/1061.tif', 'geotiff/WGS1984Quad/13/919/1066.tif', 'geotiff/WGS1984Quad/13/919/1062.tif', 'geotiff/WGS1984Quad/13/919/1067.tif', 'geotiff/WGS1984Quad/13/919/1077.tif', 'geotiff/WGS1984Quad/13/919/1063.tif', 'geotiff/WGS1984Quad/13/919/1078.tif', 'geotiff/WGS1984Quad/13/918/1059.tif', 'geotiff/WGS1984Quad/13/918/1073.tif', 'geotiff/WGS1984Quad/13/918/1077.tif', 'geotiff/WGS1984Quad/13/918/1060.tif', 'geotiff/WGS1984Quad/13/918/1078.tif', 'geotiff/WGS1984Quad/13/918/1061.tif', 'geotiff/WGS1984Quad/13/918/1079.tif', 'geotiff/WGS1984Quad/13/918/1080.tif', 'geotiff/WGS1984Quad/13/918/1081.tif', 'geotiff/WGS1984Quad/13/918/1082.tif', 'geotiff/WGS1984Quad/13/918/1062.tif', 'geotiff/WGS1984Quad/13/918/1083.tif', 'geotiff/WGS1984Quad/13/918/1063.tif', 'geotiff/WGS1984Quad/13/920/1079.tif', 'geotiff/WGS1984Quad/13/920/1080.tif', 'geotiff/WGS1984Quad/13/920/1081.tif', 'geotiff/WGS1984Quad/13/920/1082.tif', 'geotiff/WGS1984Quad/13/920/1083.tif', 'geotiff/WGS1984Quad/13/920/1060.tif', 'geotiff/WGS1984Quad/13/920/1061.tif', 'geotiff/WGS1984Quad/13/920/1062.tif', 'geotiff/WGS1984Quad/13/920/1063.tif', 'geotiff/WGS1984Quad/13/920/1064.tif', 'geotiff/WGS1984Quad/13/920/1065.tif', 'geotiff/WGS1984Quad/13/920/1066.tif', 'geotiff/WGS1984Quad/13/920/1067.tif', 'geotiff/WGS1984Quad/13/920/1077.tif', 'geotiff/WGS1984Quad/13/920/1078.tif', 'geotiff/WGS1984Quad/13/901/1061.tif', 'geotiff/WGS1984Quad/13/901/1062.tif', 'geotiff/WGS1984Quad/13/901/1065.tif', 'geotiff/WGS1984Quad/13/901/1060.tif', 'geotiff/WGS1984Quad/13/901/1066.tif', 'geotiff/WGS1984Quad/13/901/1067.tif', 'geotiff/WGS1984Quad/13/901/1068.tif', 'geotiff/WGS1984Quad/13/901/1069.tif', 'geotiff/WGS1984Quad/13/901/1070.tif', 'geotiff/WGS1984Quad/13/901/1071.tif', 'geotiff/WGS1984Quad/13/901/1072.tif', 'geotiff/WGS1984Quad/13/901/1063.tif', 'geotiff/WGS1984Quad/13/901/1064.tif', 'geotiff/WGS1984Quad/13/923/1065.tif', 'geotiff/WGS1984Quad/13/923/1066.tif', 'geotiff/WGS1984Quad/13/923/1067.tif', 'geotiff/WGS1984Quad/13/923/1079.tif', 'geotiff/WGS1984Quad/13/923/1080.tif', 'geotiff/WGS1984Quad/13/923/1081.tif', 'geotiff/WGS1984Quad/13/923/1082.tif', 'geotiff/WGS1984Quad/13/923/1083.tif', 'geotiff/WGS1984Quad/13/923/1084.tif', 'geotiff/WGS1984Quad/13/921/1082.tif', 'geotiff/WGS1984Quad/13/921/1065.tif', 'geotiff/WGS1984Quad/13/921/1083.tif', 'geotiff/WGS1984Quad/13/921/1066.tif', 'geotiff/WGS1984Quad/13/921/1067.tif', 'geotiff/WGS1984Quad/13/921/1068.tif', 'geotiff/WGS1984Quad/13/921/1079.tif', 'geotiff/WGS1984Quad/13/921/1080.tif', 'geotiff/WGS1984Quad/13/921/1081.tif', 'geotiff/WGS1984Quad/13/922/1065.tif', 'geotiff/WGS1984Quad/13/922/1066.tif', 'geotiff/WGS1984Quad/13/922/1067.tif', 'geotiff/WGS1984Quad/13/922/1079.tif', 'geotiff/WGS1984Quad/13/922/1080.tif', 'geotiff/WGS1984Quad/13/922/1081.tif', 'geotiff/WGS1984Quad/13/922/1082.tif', 'geotiff/WGS1984Quad/13/922/1083.tif', 'geotiff/WGS1984Quad/13/924/1066.tif', 'geotiff/WGS1984Quad/13/924/1067.tif', 'geotiff/WGS1984Quad/13/924/1079.tif', 'geotiff/WGS1984Quad/13/924/1080.tif', 'geotiff/WGS1984Quad/13/924/1081.tif', 'geotiff/WGS1984Quad/13/924/1082.tif', 'geotiff/WGS1984Quad/13/924/1065.tif', 'geotiff/WGS1984Quad/13/924/1083.tif', 'geotiff/WGS1984Quad/13/924/1084.tif', 'geotiff/WGS1984Quad/13/902/1059.tif', 'geotiff/WGS1984Quad/13/902/1060.tif', 'geotiff/WGS1984Quad/13/902/1068.tif', 'geotiff/WGS1984Quad/13/902/1069.tif', 'geotiff/WGS1984Quad/13/902/1070.tif', 'geotiff/WGS1984Quad/13/902/1071.tif', 'geotiff/WGS1984Quad/13/902/1072.tif', 'geotiff/WGS1984Quad/13/902/1064.tif', 'geotiff/WGS1984Quad/13/902/1066.tif', 'geotiff/WGS1984Quad/13/902/1065.tif', 'geotiff/WGS1984Quad/13/902/1061.tif', 'geotiff/WGS1984Quad/13/902/1067.tif', 'geotiff/WGS1984Quad/13/902/1062.tif', 'geotiff/WGS1984Quad/13/902/1063.tif', 'geotiff/WGS1984Quad/13/892/1059.tif', 'geotiff/WGS1984Quad/13/892/1060.tif', 'geotiff/WGS1984Quad/13/892/1075.tif', 'geotiff/WGS1984Quad/13/892/1061.tif', 'geotiff/WGS1984Quad/13/892/1076.tif', 'geotiff/WGS1984Quad/13/892/1062.tif', 'geotiff/WGS1984Quad/13/892/1077.tif', 'geotiff/WGS1984Quad/13/892/1078.tif', 'geotiff/WGS1984Quad/13/892/1063.tif', 'geotiff/WGS1984Quad/13/892/1079.tif', 'geotiff/WGS1984Quad/13/892/1064.tif', 'geotiff/WGS1984Quad/13/892/1080.tif', 'geotiff/WGS1984Quad/13/892/1057.tif', 'geotiff/WGS1984Quad/13/892/1058.tif', 'geotiff/WGS1984Quad/13/925/1081.tif', 'geotiff/WGS1984Quad/13/925/1066.tif', 'geotiff/WGS1984Quad/13/925/1067.tif', 'geotiff/WGS1984Quad/13/925/1082.tif', 'geotiff/WGS1984Quad/13/925/1079.tif', 'geotiff/WGS1984Quad/13/925/1083.tif', 'geotiff/WGS1984Quad/13/925/1084.tif', 'geotiff/WGS1984Quad/13/925/1080.tif', 'geotiff/WGS1984Quad/13/926/1065.tif', 'geotiff/WGS1984Quad/13/926/1066.tif', 'geotiff/WGS1984Quad/13/926/1067.tif', 'geotiff/WGS1984Quad/13/926/1068.tif', 'geotiff/WGS1984Quad/13/926/1080.tif', 'geotiff/WGS1984Quad/13/926/1081.tif', 'geotiff/WGS1984Quad/13/926/1082.tif', 'geotiff/WGS1984Quad/13/926/1083.tif', 'geotiff/WGS1984Quad/13/893/1081.tif', 'geotiff/WGS1984Quad/13/893/1082.tif', 'geotiff/WGS1984Quad/13/893/1057.tif', 'geotiff/WGS1984Quad/13/893/1075.tif', 'geotiff/WGS1984Quad/13/893/1058.tif', 'geotiff/WGS1984Quad/13/893/1076.tif', 'geotiff/WGS1984Quad/13/893/1059.tif', 'geotiff/WGS1984Quad/13/893/1077.tif', 'geotiff/WGS1984Quad/13/893/1060.tif', 'geotiff/WGS1984Quad/13/893/1061.tif', 'geotiff/WGS1984Quad/13/893/1078.tif', 'geotiff/WGS1984Quad/13/893/1062.tif', 'geotiff/WGS1984Quad/13/893/1079.tif', 'geotiff/WGS1984Quad/13/893/1063.tif', 'geotiff/WGS1984Quad/13/893/1064.tif', 'geotiff/WGS1984Quad/13/893/1080.tif', 'geotiff/WGS1984Quad/13/927/1065.tif', 'geotiff/WGS1984Quad/13/927/1067.tif', 'geotiff/WGS1984Quad/13/927/1068.tif', 'geotiff/WGS1984Quad/13/927/1066.tif', 'geotiff/WGS1984Quad/13/894/1078.tif', 'geotiff/WGS1984Quad/13/894/1079.tif', 'geotiff/WGS1984Quad/13/894/1080.tif', 'geotiff/WGS1984Quad/13/894/1081.tif', 'geotiff/WGS1984Quad/13/894/1057.tif', 'geotiff/WGS1984Quad/13/894/1063.tif', 'geotiff/WGS1984Quad/13/894/1064.tif', 'geotiff/WGS1984Quad/13/894/1058.tif', 'geotiff/WGS1984Quad/13/894/1059.tif', 'geotiff/WGS1984Quad/13/894/1060.tif', 'geotiff/WGS1984Quad/13/894/1061.tif', 'geotiff/WGS1984Quad/13/894/1062.tif', 'geotiff/WGS1984Quad/13/894/1074.tif', 'geotiff/WGS1984Quad/13/894/1075.tif', 'geotiff/WGS1984Quad/13/894/1076.tif', 'geotiff/WGS1984Quad/13/894/1077.tif', 'geotiff/WGS1984Quad/13/928/1065.tif', 'geotiff/WGS1984Quad/13/928/1066.tif', 'geotiff/WGS1984Quad/13/928/1067.tif', 'geotiff/WGS1984Quad/13/928/1068.tif', 'geotiff/WGS1984Quad/13/913/1059.tif', 'geotiff/WGS1984Quad/13/913/1060.tif', 'geotiff/WGS1984Quad/13/913/1061.tif', 'geotiff/WGS1984Quad/13/913/1062.tif', 'geotiff/WGS1984Quad/13/913/1063.tif', 'geotiff/WGS1984Quad/13/913/1080.tif', 'geotiff/WGS1984Quad/13/913/1081.tif', 'geotiff/WGS1984Quad/13/913/1082.tif', 'geotiff/WGS1984Quad/13/913/1083.tif', 'geotiff/WGS1984Quad/13/929/1065.tif', 'geotiff/WGS1984Quad/13/929/1066.tif', 'geotiff/WGS1984Quad/13/929/1067.tif', 'geotiff/WGS1984Quad/13/929/1068.tif', 'geotiff/WGS1984Quad/13/914/1082.tif', 'geotiff/WGS1984Quad/13/914/1083.tif', 'geotiff/WGS1984Quad/13/914/1059.tif', 'geotiff/WGS1984Quad/13/914/1060.tif', 'geotiff/WGS1984Quad/13/914/1079.tif', 'geotiff/WGS1984Quad/13/914/1061.tif', 'geotiff/WGS1984Quad/13/914/1080.tif', 'geotiff/WGS1984Quad/13/914/1081.tif', 'geotiff/WGS1984Quad/13/914/1062.tif', 'geotiff/WGS1984Quad/13/914/1063.tif', 'geotiff/WGS1984Quad/13/930/1066.tif', 'geotiff/WGS1984Quad/13/930/1067.tif', 'geotiff/WGS1984Quad/13/903/1068.tif', 'geotiff/WGS1984Quad/13/903/1069.tif', 'geotiff/WGS1984Quad/13/903/1061.tif']\n",
      "Created webtiles for ['geotiff/WGS1984Quad/13/903/1065.tif', 'geotiff/WGS1984Quad/13/903/1062.tif', 'geotiff/WGS1984Quad/13/903/1066.tif', 'geotiff/WGS1984Quad/13/903/1067.tif', 'geotiff/WGS1984Quad/13/903/1063.tif', 'geotiff/WGS1984Quad/13/903/1064.tif', 'geotiff/WGS1984Quad/13/903/1059.tif', 'geotiff/WGS1984Quad/13/903/1060.tif', 'geotiff/WGS1984Quad/13/904/1067.tif', 'geotiff/WGS1984Quad/13/904/1068.tif', 'geotiff/WGS1984Quad/13/904/1059.tif', 'geotiff/WGS1984Quad/13/904/1060.tif', 'geotiff/WGS1984Quad/13/904/1061.tif', 'geotiff/WGS1984Quad/13/904/1062.tif', 'geotiff/WGS1984Quad/13/904/1063.tif', 'geotiff/WGS1984Quad/13/904/1064.tif', 'geotiff/WGS1984Quad/13/904/1065.tif', 'geotiff/WGS1984Quad/13/904/1066.tif', 'geotiff/WGS1984Quad/13/907/1069.tif', 'geotiff/WGS1984Quad/13/907/1059.tif', 'geotiff/WGS1984Quad/13/907/1060.tif', 'geotiff/WGS1984Quad/13/907/1061.tif', 'geotiff/WGS1984Quad/13/907/1062.tif', 'geotiff/WGS1984Quad/13/907/1067.tif', 'geotiff/WGS1984Quad/13/907/1063.tif', 'geotiff/WGS1984Quad/13/907/1068.tif', 'geotiff/WGS1984Quad/13/906/1068.tif', 'geotiff/WGS1984Quad/13/906/1069.tif', 'geotiff/WGS1984Quad/13/906/1059.tif', 'geotiff/WGS1984Quad/13/906/1060.tif', 'geotiff/WGS1984Quad/13/906/1061.tif', 'geotiff/WGS1984Quad/13/906/1063.tif', 'geotiff/WGS1984Quad/13/906/1064.tif', 'geotiff/WGS1984Quad/13/906/1065.tif', 'geotiff/WGS1984Quad/13/906/1066.tif', 'geotiff/WGS1984Quad/13/906/1067.tif', 'geotiff/WGS1984Quad/13/905/1067.tif', 'geotiff/WGS1984Quad/13/905/1068.tif', 'geotiff/WGS1984Quad/13/905/1059.tif', 'geotiff/WGS1984Quad/13/905/1060.tif', 'geotiff/WGS1984Quad/13/905/1061.tif', 'geotiff/WGS1984Quad/13/905/1062.tif', 'geotiff/WGS1984Quad/13/905/1063.tif', 'geotiff/WGS1984Quad/13/905/1064.tif', 'geotiff/WGS1984Quad/13/905/1065.tif', 'geotiff/WGS1984Quad/13/905/1066.tif', 'geotiff/WGS1984Quad/13/908/1060.tif', 'geotiff/WGS1984Quad/13/908/1067.tif', 'geotiff/WGS1984Quad/13/908/1068.tif', 'geotiff/WGS1984Quad/13/908/1069.tif', 'geotiff/WGS1984Quad/13/908/1059.tif', 'geotiff/WGS1984Quad/13/908/1061.tif', 'geotiff/WGS1984Quad/13/908/1062.tif', 'geotiff/WGS1984Quad/13/908/1063.tif', 'geotiff/WGS1984Quad/12/456/539.tif', 'geotiff/WGS1984Quad/12/456/536.tif', 'geotiff/WGS1984Quad/12/456/531.tif', 'geotiff/WGS1984Quad/12/456/529.tif', 'geotiff/WGS1984Quad/12/456/540.tif', 'geotiff/WGS1984Quad/12/456/534.tif', 'geotiff/WGS1984Quad/12/456/541.tif', 'geotiff/WGS1984Quad/12/456/530.tif', 'geotiff/WGS1984Quad/12/456/533.tif', 'geotiff/WGS1984Quad/12/459/532.tif', 'geotiff/WGS1984Quad/12/459/536.tif', 'geotiff/WGS1984Quad/12/459/540.tif', 'geotiff/WGS1984Quad/12/459/538.tif', 'geotiff/WGS1984Quad/12/459/541.tif', 'geotiff/WGS1984Quad/12/459/530.tif', 'geotiff/WGS1984Quad/12/459/539.tif', 'geotiff/WGS1984Quad/12/459/529.tif', 'geotiff/WGS1984Quad/12/459/531.tif', 'geotiff/WGS1984Quad/12/459/533.tif', 'geotiff/WGS1984Quad/12/450/533.tif', 'geotiff/WGS1984Quad/12/450/536.tif', 'geotiff/WGS1984Quad/12/450/538.tif', 'geotiff/WGS1984Quad/12/450/532.tif', 'geotiff/WGS1984Quad/12/450/534.tif', 'geotiff/WGS1984Quad/12/450/530.tif', 'geotiff/WGS1984Quad/12/450/539.tif', 'geotiff/WGS1984Quad/12/450/531.tif', 'geotiff/WGS1984Quad/12/450/535.tif', 'geotiff/WGS1984Quad/12/450/537.tif', 'geotiff/WGS1984Quad/12/450/529.tif', 'geotiff/WGS1984Quad/12/446/538.tif', 'geotiff/WGS1984Quad/12/446/532.tif', 'geotiff/WGS1984Quad/12/446/539.tif', 'geotiff/WGS1984Quad/12/446/528.tif', 'geotiff/WGS1984Quad/12/446/530.tif', 'geotiff/WGS1984Quad/12/446/541.tif', 'geotiff/WGS1984Quad/12/446/531.tif', 'geotiff/WGS1984Quad/12/446/540.tif', 'geotiff/WGS1984Quad/12/446/537.tif', 'geotiff/WGS1984Quad/12/446/529.tif', 'geotiff/WGS1984Quad/12/458/540.tif', 'geotiff/WGS1984Quad/12/458/531.tif', 'geotiff/WGS1984Quad/12/458/529.tif', 'geotiff/WGS1984Quad/12/458/530.tif', 'geotiff/WGS1984Quad/12/458/541.tif', 'geotiff/WGS1984Quad/12/458/536.tif', 'geotiff/WGS1984Quad/12/458/537.tif', 'geotiff/WGS1984Quad/12/458/539.tif', 'geotiff/WGS1984Quad/12/462/539.tif', 'geotiff/WGS1984Quad/12/462/533.tif', 'geotiff/WGS1984Quad/12/462/540.tif', 'geotiff/WGS1984Quad/12/462/542.tif', 'geotiff/WGS1984Quad/12/462/532.tif', 'geotiff/WGS1984Quad/12/462/541.tif', 'geotiff/WGS1984Quad/12/449/540.tif', 'geotiff/WGS1984Quad/12/449/537.tif', 'geotiff/WGS1984Quad/12/449/534.tif', 'geotiff/WGS1984Quad/12/449/538.tif', 'geotiff/WGS1984Quad/12/449/532.tif', 'geotiff/WGS1984Quad/12/449/530.tif', 'geotiff/WGS1984Quad/12/449/533.tif', 'geotiff/WGS1984Quad/12/449/539.tif', 'geotiff/WGS1984Quad/12/449/529.tif', 'geotiff/WGS1984Quad/12/449/531.tif', 'geotiff/WGS1984Quad/12/453/531.tif', 'geotiff/WGS1984Quad/12/453/530.tif', 'geotiff/WGS1984Quad/12/453/529.tif', 'geotiff/WGS1984Quad/12/453/533.tif', 'geotiff/WGS1984Quad/12/453/532.tif', 'geotiff/WGS1984Quad/12/453/534.tif', 'geotiff/WGS1984Quad/12/448/540.tif', 'geotiff/WGS1984Quad/12/448/529.tif', 'geotiff/WGS1984Quad/12/448/533.tif', 'geotiff/WGS1984Quad/12/448/530.tif', 'geotiff/WGS1984Quad/12/448/532.tif', 'geotiff/WGS1984Quad/12/448/538.tif', 'geotiff/WGS1984Quad/12/448/539.tif', 'geotiff/WGS1984Quad/12/448/531.tif', 'geotiff/WGS1984Quad/12/448/537.tif', 'geotiff/WGS1984Quad/12/463/541.tif', 'geotiff/WGS1984Quad/12/463/532.tif', 'geotiff/WGS1984Quad/12/463/533.tif', 'geotiff/WGS1984Quad/12/463/534.tif', 'geotiff/WGS1984Quad/12/463/540.tif', 'geotiff/WGS1984Quad/12/457/536.tif', 'geotiff/WGS1984Quad/12/457/530.tif', 'geotiff/WGS1984Quad/12/457/541.tif', 'geotiff/WGS1984Quad/12/457/531.tif', 'geotiff/WGS1984Quad/12/457/539.tif', 'geotiff/WGS1984Quad/12/457/529.tif', 'geotiff/WGS1984Quad/12/457/540.tif', 'geotiff/WGS1984Quad/12/460/540.tif', 'geotiff/WGS1984Quad/12/460/541.tif', 'geotiff/WGS1984Quad/12/460/530.tif', 'geotiff/WGS1984Quad/12/460/532.tif', 'geotiff/WGS1984Quad/12/460/534.tif', 'geotiff/WGS1984Quad/12/460/539.tif', 'geotiff/WGS1984Quad/12/460/533.tif', 'geotiff/WGS1984Quad/12/460/531.tif', 'geotiff/WGS1984Quad/12/460/538.tif', 'geotiff/WGS1984Quad/12/447/528.tif', 'geotiff/WGS1984Quad/12/447/539.tif', 'geotiff/WGS1984Quad/12/447/537.tif', 'geotiff/WGS1984Quad/12/447/531.tif', 'geotiff/WGS1984Quad/12/447/533.tif', 'geotiff/WGS1984Quad/12/447/538.tif', 'geotiff/WGS1984Quad/12/447/529.tif', 'geotiff/WGS1984Quad/12/447/540.tif', 'geotiff/WGS1984Quad/12/447/530.tif', 'geotiff/WGS1984Quad/12/447/532.tif', 'geotiff/WGS1984Quad/12/451/529.tif', 'geotiff/WGS1984Quad/12/451/535.tif', 'geotiff/WGS1984Quad/12/451/536.tif', 'geotiff/WGS1984Quad/12/451/531.tif', 'geotiff/WGS1984Quad/12/451/532.tif', 'geotiff/WGS1984Quad/12/451/534.tif', 'geotiff/WGS1984Quad/12/451/530.tif', 'geotiff/WGS1984Quad/12/451/533.tif', 'geotiff/WGS1984Quad/12/461/541.tif', 'geotiff/WGS1984Quad/12/461/533.tif', 'geotiff/WGS1984Quad/12/461/542.tif', 'geotiff/WGS1984Quad/12/461/540.tif', 'geotiff/WGS1984Quad/12/461/532.tif', 'geotiff/WGS1984Quad/12/461/539.tif', 'geotiff/WGS1984Quad/12/455/533.tif', 'geotiff/WGS1984Quad/12/455/537.tif', 'geotiff/WGS1984Quad/12/455/539.tif', 'geotiff/WGS1984Quad/12/455/529.tif', 'geotiff/WGS1984Quad/12/455/535.tif', 'geotiff/WGS1984Quad/12/455/531.tif', 'geotiff/WGS1984Quad/12/455/540.tif', 'geotiff/WGS1984Quad/12/455/536.tif', 'geotiff/WGS1984Quad/12/455/541.tif', 'geotiff/WGS1984Quad/12/455/534.tif', 'geotiff/WGS1984Quad/12/455/530.tif', 'geotiff/WGS1984Quad/12/464/533.tif', 'geotiff/WGS1984Quad/12/464/534.tif', 'geotiff/WGS1984Quad/12/464/532.tif', 'geotiff/WGS1984Quad/12/454/531.tif', 'geotiff/WGS1984Quad/12/454/529.tif', 'geotiff/WGS1984Quad/12/454/533.tif', 'geotiff/WGS1984Quad/12/454/530.tif', 'geotiff/WGS1984Quad/12/454/534.tif', 'geotiff/WGS1984Quad/12/452/533.tif', 'geotiff/WGS1984Quad/12/452/531.tif', 'geotiff/WGS1984Quad/12/452/529.tif']\n",
      "Created webtiles for ['geotiff/WGS1984Quad/12/452/534.tif', 'geotiff/WGS1984Quad/12/452/530.tif', 'geotiff/WGS1984Quad/12/452/532.tif', 'geotiff/WGS1984Quad/12/465/533.tif', 'geotiff/WGS1984Quad/11/232/267.tif', 'geotiff/WGS1984Quad/11/232/266.tif', 'geotiff/WGS1984Quad/11/230/269.tif', 'geotiff/WGS1984Quad/11/230/271.tif', 'geotiff/WGS1984Quad/11/230/266.tif', 'geotiff/WGS1984Quad/11/230/270.tif', 'geotiff/WGS1984Quad/11/230/265.tif', 'geotiff/WGS1984Quad/11/230/267.tif', 'geotiff/WGS1984Quad/11/223/264.tif', 'geotiff/WGS1984Quad/11/223/266.tif', 'geotiff/WGS1984Quad/11/223/268.tif', 'geotiff/WGS1984Quad/11/223/270.tif', 'geotiff/WGS1984Quad/11/223/265.tif', 'geotiff/WGS1984Quad/11/223/269.tif', 'geotiff/WGS1984Quad/11/226/267.tif', 'geotiff/WGS1984Quad/11/226/265.tif', 'geotiff/WGS1984Quad/11/226/266.tif', 'geotiff/WGS1984Quad/11/226/264.tif', 'geotiff/WGS1984Quad/11/231/269.tif', 'geotiff/WGS1984Quad/11/231/267.tif', 'geotiff/WGS1984Quad/11/231/271.tif', 'geotiff/WGS1984Quad/11/231/266.tif', 'geotiff/WGS1984Quad/11/231/270.tif', 'geotiff/WGS1984Quad/11/227/266.tif', 'geotiff/WGS1984Quad/11/227/268.tif', 'geotiff/WGS1984Quad/11/227/270.tif', 'geotiff/WGS1984Quad/11/227/265.tif', 'geotiff/WGS1984Quad/11/227/267.tif', 'geotiff/WGS1984Quad/11/227/269.tif', 'geotiff/WGS1984Quad/11/227/264.tif', 'geotiff/WGS1984Quad/11/224/264.tif', 'geotiff/WGS1984Quad/11/224/266.tif', 'geotiff/WGS1984Quad/11/224/268.tif', 'geotiff/WGS1984Quad/11/224/270.tif', 'geotiff/WGS1984Quad/11/224/267.tif', 'geotiff/WGS1984Quad/11/224/265.tif', 'geotiff/WGS1984Quad/11/224/269.tif', 'geotiff/WGS1984Quad/11/229/265.tif', 'geotiff/WGS1984Quad/11/229/269.tif', 'geotiff/WGS1984Quad/11/229/264.tif', 'geotiff/WGS1984Quad/11/229/266.tif', 'geotiff/WGS1984Quad/11/229/268.tif', 'geotiff/WGS1984Quad/11/229/270.tif', 'geotiff/WGS1984Quad/11/228/267.tif', 'geotiff/WGS1984Quad/11/228/269.tif', 'geotiff/WGS1984Quad/11/228/265.tif', 'geotiff/WGS1984Quad/11/228/266.tif', 'geotiff/WGS1984Quad/11/228/268.tif', 'geotiff/WGS1984Quad/11/228/264.tif', 'geotiff/WGS1984Quad/11/228/270.tif', 'geotiff/WGS1984Quad/11/225/265.tif', 'geotiff/WGS1984Quad/11/225/267.tif', 'geotiff/WGS1984Quad/11/225/269.tif', 'geotiff/WGS1984Quad/11/225/264.tif', 'geotiff/WGS1984Quad/11/225/266.tif', 'geotiff/WGS1984Quad/11/225/268.tif', 'geotiff/WGS1984Quad/10/111/133.tif', 'geotiff/WGS1984Quad/10/111/135.tif', 'geotiff/WGS1984Quad/10/111/132.tif', 'geotiff/WGS1984Quad/10/111/134.tif', 'geotiff/WGS1984Quad/10/112/132.tif', 'geotiff/WGS1984Quad/10/112/134.tif', 'geotiff/WGS1984Quad/10/112/133.tif', 'geotiff/WGS1984Quad/10/112/135.tif', 'geotiff/WGS1984Quad/10/113/132.tif', 'geotiff/WGS1984Quad/10/113/135.tif', 'geotiff/WGS1984Quad/10/113/134.tif', 'geotiff/WGS1984Quad/10/113/133.tif', 'geotiff/WGS1984Quad/10/116/133.tif', 'geotiff/WGS1984Quad/10/114/132.tif', 'geotiff/WGS1984Quad/10/114/133.tif', 'geotiff/WGS1984Quad/10/114/134.tif', 'geotiff/WGS1984Quad/10/114/135.tif', 'geotiff/WGS1984Quad/10/115/132.tif', 'geotiff/WGS1984Quad/10/115/134.tif', 'geotiff/WGS1984Quad/10/115/133.tif', 'geotiff/WGS1984Quad/10/115/135.tif', 'geotiff/WGS1984Quad/9/55/67.tif', 'geotiff/WGS1984Quad/9/55/66.tif', 'geotiff/WGS1984Quad/9/57/67.tif', 'geotiff/WGS1984Quad/9/57/66.tif', 'geotiff/WGS1984Quad/9/56/67.tif', 'geotiff/WGS1984Quad/9/56/66.tif', 'geotiff/WGS1984Quad/9/58/66.tif', 'geotiff/WGS1984Quad/8/29/33.tif', 'geotiff/WGS1984Quad/8/28/33.tif', 'geotiff/WGS1984Quad/8/27/33.tif', 'geotiff/WGS1984Quad/7/14/16.tif', 'geotiff/WGS1984Quad/7/13/16.tif', 'geotiff/WGS1984Quad/6/7/8.tif', 'geotiff/WGS1984Quad/6/6/8.tif', 'geotiff/WGS1984Quad/5/3/4.tif', 'geotiff/WGS1984Quad/4/1/2.tif', 'geotiff/WGS1984Quad/3/0/1.tif', 'geotiff/WGS1984Quad/2/0/0.tif', 'geotiff/WGS1984Quad/1/0/0.tif']\n"
     ]
    }
   ],
   "source": [
    "# run app over all of the geotiffs in batches of 200\n",
    "\n",
    "geotiff_paths = iwp_rasterizer.tiles.get_filenames_from_dir('geotiff')\n",
    "geotiff_batches = make_batch(geotiff_paths, batch_size = 200)\n",
    "\n",
    "futures = []\n",
    "for batch in geotiff_batches:\n",
    "    future = create_webtiles(batch, iwp_rasterizer)\n",
    "    futures.append(future)\n",
    "    print(f'Assembled future for {batch}')\n",
    "    \n",
    "for future in futures:\n",
    "    maptile_batch = future.result()\n",
    "    print(f'Created webtiles for {future.result()}')"
   ]
  },
  {
   "cell_type": "code",
   "execution_count": 23,
   "metadata": {},
   "outputs": [],
   "source": [
    "# Shutdown and clear the parsl executor\n",
    "htex_local.executors[0].shutdown()\n",
    "parsl.clear()"
   ]
  },
  {
   "attachments": {},
   "cell_type": "markdown",
   "metadata": {},
   "source": [
    "Wonderful! Now we have created web tiles for all zoom levels. Don't forget to shut down the executor."
   ]
  },
  {
   "cell_type": "markdown",
   "metadata": {},
   "source": [
    "## Make a map!"
   ]
  },
  {
   "cell_type": "markdown",
   "metadata": {},
   "source": [
    "Now we are finally ready to explore these data using `ipyleaflet`. First, we have to set up a basemap layer to use. We use a set of WMS (Web Map Service) tiles provided by USGS. One reason we chose this set is it allows us to reproject the data into EPSG 4326, which is the projection our data are in. Other commonly used web tiles are in web mercator, which is not what our data are in."
   ]
  },
  {
   "cell_type": "code",
   "execution_count": 24,
   "metadata": {},
   "outputs": [],
   "source": [
    "wms = WMSLayer(\n",
    "    url=\"https://basemap.nationalmap.gov:443/arcgis/services/USGSImageryTopo/MapServer/WmsServer\",\n",
    "    layers=\"0\",\n",
    "    format=\"image/png\",\n",
    "    transparent=True,\n",
    "    min_zoom=0,\n",
    "    crs=projections.EPSG4326\n",
    ")"
   ]
  },
  {
   "attachments": {},
   "cell_type": "markdown",
   "metadata": {},
   "source": [
    "Now we can call the `Map` function from `ipyleaflet`, set up a default zoom and center, add the WMS layer and projection, and finally add our set of local tiles using the `add_layer` method. \n",
    "\n",
    "Note that the path you give to the `LocalTileLayer` function has variables for z, x, and y. If you look in the `geotiff` directory at the higher zoom levels, you'll see that the directories and files are all named in a very standardized fashion. This is so that they can be automatically handled by the `LocalTileLayer` function. This is a standard for how web tiles are served. The methods from the `rasterizer` class handled this for us in our data processing."
   ]
  },
  {
   "cell_type": "code",
   "execution_count": 25,
   "metadata": {},
   "outputs": [
    {
     "data": {
      "application/vnd.jupyter.widget-view+json": {
       "model_id": "0ec8b68472784e5285123e85126ba57a",
       "version_major": 2,
       "version_minor": 0
      },
      "text/plain": [
       "Map(center=[66.5, -159.9], controls=(ZoomControl(options=['position', 'zoom_in_text', 'zoom_in_title', 'zoom_o…"
      ]
     },
     "execution_count": 25,
     "metadata": {},
     "output_type": "execute_result"
    }
   ],
   "source": [
    "from ipyleaflet import Map, LocalTileLayer, WMSLayer, projections, WidgetControl\n",
    "from ipywidgets import HTML\n",
    "\n",
    "map = Map(center=(66.5, -159.9), zoom=9, layers=(wms,), crs=projections.EPSG4326)\n",
    "\n",
    "# Add indicator to show what level of zoom\n",
    "zoom_label = HTML(value=f'Zoom level: {map.zoom}')\n",
    "widget_control = WidgetControl(widget=zoom_label, position='topright')\n",
    "map.add_control(widget_control)\n",
    "\n",
    "# Update zoom label when map zoom changes\n",
    "def update_zoom(change):\n",
    "        zoom_label.value = f'Zoom level: {change.new}'\n",
    "\n",
    "map.observe(update_zoom, names='zoom')\n",
    "\n",
    "map.add_layer(LocalTileLayer(path='web_tiles/prop_pixel_covered_by_IWP/WGS1984Quad/{z}/{x}/{y}.png'));\n",
    "\n",
    "map"
   ]
  },
  {
   "cell_type": "code",
   "execution_count": 26,
   "metadata": {},
   "outputs": [
    {
     "data": {
      "text/plain": [
       "9.0"
      ]
     },
     "execution_count": 26,
     "metadata": {},
     "output_type": "execute_result"
    }
   ],
   "source": [
    "# Get current zoom level\n",
    "map.zoom"
   ]
  },
  {
   "cell_type": "markdown",
   "metadata": {},
   "source": [
    "## Bonus\n",
    "\n",
    "Play around with [`ipyleaflet`](https://ipyleaflet.readthedocs.io/en/latest/) and add whatever features you think might be useful, like a legend or markers."
   ]
  }
 ],
 "metadata": {
  "kernelspec": {
   "display_name": "Python 3.9.13 ('scomp')",
   "language": "python",
   "name": "python3"
  },
  "language_info": {
   "codemirror_mode": {
    "name": "ipython",
    "version": 3
   },
   "file_extension": ".py",
   "mimetype": "text/x-python",
   "name": "python",
   "nbconvert_exporter": "python",
   "pygments_lexer": "ipython3",
   "version": "3.10.12"
  },
  "orig_nbformat": 4,
  "vscode": {
   "interpreter": {
    "hash": "0030ed2ed4c0609037967981d5426019e14a913516344490dbc8ffbbe92f86b7"
   }
  }
 },
 "nbformat": 4,
 "nbformat_minor": 2
}
