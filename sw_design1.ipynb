{
 "cells": [
  {
   "cell_type": "markdown",
   "metadata": {},
   "source": [
    "# Software design 1"
   ]
  },
  {
   "cell_type": "code",
   "execution_count": 1,
   "metadata": {},
   "outputs": [],
   "source": [
    "def double(x):\n",
    "    return x * 2"
   ]
  },
  {
   "cell_type": "code",
   "execution_count": 2,
   "metadata": {},
   "outputs": [
    {
     "name": "stdout",
     "output_type": "stream",
     "text": [
      "<function double at 0x7f6b33370700>\n"
     ]
    }
   ],
   "source": [
    "print(double)"
   ]
  },
  {
   "cell_type": "code",
   "execution_count": 3,
   "metadata": {},
   "outputs": [
    {
     "data": {
      "text/plain": [
       "function"
      ]
     },
     "execution_count": 3,
     "metadata": {},
     "output_type": "execute_result"
    }
   ],
   "source": [
    "twotimes = double\n",
    "type(twotimes)"
   ]
  },
  {
   "cell_type": "code",
   "execution_count": 4,
   "metadata": {},
   "outputs": [
    {
     "name": "stdout",
     "output_type": "stream",
     "text": [
      "<function double at 0x7f6b33370700>\n"
     ]
    }
   ],
   "source": [
    "print(twotimes)"
   ]
  },
  {
   "cell_type": "code",
   "execution_count": 5,
   "metadata": {},
   "outputs": [
    {
     "name": "stdout",
     "output_type": "stream",
     "text": [
      "34\n",
      "24\n",
      "True\n"
     ]
    }
   ],
   "source": [
    "print(double(17))\n",
    "print(twotimes(12))\n",
    "print(twotimes(4) == double(4))"
   ]
  },
  {
   "cell_type": "code",
   "execution_count": 6,
   "metadata": {},
   "outputs": [
    {
     "data": {
      "text/plain": [
       "[4, 6, 8]"
      ]
     },
     "execution_count": 6,
     "metadata": {},
     "output_type": "execute_result"
    }
   ],
   "source": [
    "list(map(twotimes, [2,3,4]))"
   ]
  },
  {
   "cell_type": "code",
   "execution_count": 7,
   "metadata": {},
   "outputs": [],
   "source": [
    "def some_function():\n",
    "    print(\"Ran some function\")\n",
    "\n",
    "def wrapper(function_to_run):\n",
    "    print(\"Ran wrapper...\")\n",
    "    function_to_run()\n",
    "    print(\"Finished wrapper\")"
   ]
  },
  {
   "cell_type": "code",
   "execution_count": 8,
   "metadata": {},
   "outputs": [
    {
     "name": "stdout",
     "output_type": "stream",
     "text": [
      "Ran wrapper...\n",
      "Ran some function\n",
      "Finished wrapper\n"
     ]
    }
   ],
   "source": [
    "wrapper(some_function)"
   ]
  },
  {
   "cell_type": "markdown",
   "metadata": {},
   "source": [
    "## Decorators"
   ]
  },
  {
   "cell_type": "code",
   "execution_count": 9,
   "metadata": {},
   "outputs": [
    {
     "name": "stdout",
     "output_type": "stream",
     "text": [
      "Wrapper started\n",
      "Ran some function\n",
      "Wrapper ended\n"
     ]
    }
   ],
   "source": [
    "def my_decorator(func_to_run):\n",
    "    def wrapper():\n",
    "        print(\"Wrapper started\")\n",
    "        func_to_run()\n",
    "        print(\"Wrapper ended\")\n",
    "    return wrapper\n",
    "\n",
    "f = my_decorator(some_function)\n",
    "f()"
   ]
  },
  {
   "cell_type": "code",
   "execution_count": 10,
   "metadata": {},
   "outputs": [
    {
     "name": "stdout",
     "output_type": "stream",
     "text": [
      "Wrapper started\n",
      "Hello\n",
      "Wrapper ended\n"
     ]
    }
   ],
   "source": [
    "@my_decorator\n",
    "def hello():\n",
    "    print(\"Hello\")\n",
    "\n",
    "hello()"
   ]
  },
  {
   "cell_type": "markdown",
   "metadata": {},
   "source": [
    "## Global variables"
   ]
  },
  {
   "cell_type": "code",
   "execution_count": 13,
   "metadata": {},
   "outputs": [
    {
     "name": "stdout",
     "output_type": "stream",
     "text": [
      "10\n"
     ]
    }
   ],
   "source": [
    "def do_task():\n",
    "    global x\n",
    "    x = 10\n",
    "\n",
    "x = 5\n",
    "do_task()\n",
    "print(x)"
   ]
  },
  {
   "cell_type": "code",
   "execution_count": 15,
   "metadata": {},
   "outputs": [
    {
     "data": {
      "text/plain": [
       "18"
      ]
     },
     "execution_count": 15,
     "metadata": {},
     "output_type": "execute_result"
    }
   ],
   "source": [
    "a = 3\n",
    "def do_stuff(b):\n",
    "    return b*a\n",
    "\n",
    "do_stuff(6)"
   ]
  },
  {
   "cell_type": "markdown",
   "metadata": {},
   "source": [
    "## Locks"
   ]
  },
  {
   "cell_type": "code",
   "execution_count": 17,
   "metadata": {},
   "outputs": [
    {
     "name": "stdout",
     "output_type": "stream",
     "text": [
      "021  Hello Hello\n",
      "Hello\n",
      "0\n",
      "2 1 world world\n",
      "world\n",
      "\n"
     ]
    }
   ],
   "source": [
    "# without lock\n",
    "from concurrent.futures import ProcessPoolExecutor\n",
    "import time\n",
    "\n",
    "def hello(i):\n",
    "    print(i, 'Hello')\n",
    "    print(i, 'world')\n",
    "\n",
    "executor = ProcessPoolExecutor()\n",
    "futures = [executor.submit(hello, i) for i in range(3)]\n",
    "\n",
    "for future in futures:\n",
    "    future.result()"
   ]
  },
  {
   "cell_type": "code",
   "execution_count": 19,
   "metadata": {},
   "outputs": [
    {
     "name": "stdout",
     "output_type": "stream",
     "text": [
      "1 Hello\n",
      "1 world\n",
      "0 Hello\n",
      "0 world\n",
      "2 Hello\n",
      "2 world\n"
     ]
    }
   ],
   "source": [
    "# with lock\n",
    "from concurrent.futures import ProcessPoolExecutor\n",
    "import time\n",
    "import multiprocessing\n",
    "\n",
    "def hello(i, lock):\n",
    "    with lock:\n",
    "        print(i, 'Hello')\n",
    "        print(i, 'world')\n",
    "\n",
    "lock = multiprocessing.Manager().Lock()\n",
    "executor = ProcessPoolExecutor()\n",
    "futures = [executor.submit(hello, i, lock) for i in range(3)]\n",
    "\n",
    "for future in futures:\n",
    "    future.result()"
   ]
  },
  {
   "cell_type": "code",
   "execution_count": null,
   "metadata": {},
   "outputs": [],
   "source": []
  }
 ],
 "metadata": {
  "kernelspec": {
   "display_name": "scomp",
   "language": "python",
   "name": "python3"
  },
  "language_info": {
   "codemirror_mode": {
    "name": "ipython",
    "version": 3
   },
   "file_extension": ".py",
   "mimetype": "text/x-python",
   "name": "python",
   "nbconvert_exporter": "python",
   "pygments_lexer": "ipython3",
   "version": "3.10.12"
  }
 },
 "nbformat": 4,
 "nbformat_minor": 2
}
